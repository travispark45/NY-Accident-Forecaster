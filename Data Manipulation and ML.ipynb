{
 "cells": [
  {
   "cell_type": "code",
   "execution_count": 1,
   "metadata": {
    "collapsed": true
   },
   "outputs": [],
   "source": [
    "import pandas as pd\n",
    "import numpy as np\n",
    "import itertools"
   ]
  },
  {
   "cell_type": "markdown",
   "metadata": {},
   "source": [
    "**Format dataset containing the volume data**\n",
    "\n",
    "This dataset is at the county level, will need to be merged with the county field of the crash dataset that is at the municipality level"
   ]
  },
  {
   "cell_type": "code",
   "execution_count": 2,
   "metadata": {
    "collapsed": false
   },
   "outputs": [],
   "source": [
    "dir = 'C:\\\\Users\\\\Travis Park\\\\Documents\\\\Big Data Python\\\\New_NY\\\\'\n",
    "r = ['1','2','3','4','5','6','7','8','9','10','11']\n",
    "y = list(range(2012,2015))"
   ]
  },
  {
   "cell_type": "code",
   "execution_count": 3,
   "metadata": {
    "collapsed": true
   },
   "outputs": [],
   "source": [
    "file1 = 'CC_VOL_R1_2012\\\\CC_VOL_R1_2012.csv'"
   ]
  },
  {
   "cell_type": "code",
   "execution_count": 4,
   "metadata": {
    "collapsed": true
   },
   "outputs": [],
   "source": [
    "data = pd.read_csv(dir+file1)"
   ]
  },
  {
   "cell_type": "markdown",
   "metadata": {},
   "source": [
    "Define column names for DataFrame"
   ]
  },
  {
   "cell_type": "code",
   "execution_count": 5,
   "metadata": {
    "collapsed": false,
    "scrolled": true
   },
   "outputs": [
    {
     "data": {
      "text/html": [
       "<div>\n",
       "<table border=\"1\" class=\"dataframe\">\n",
       "  <thead>\n",
       "    <tr style=\"text-align: right;\">\n",
       "      <th></th>\n",
       "      <th>RC</th>\n",
       "      <th>Station</th>\n",
       "      <th>Region</th>\n",
       "      <th>DOTID</th>\n",
       "      <th>CCID</th>\n",
       "      <th>FC</th>\n",
       "      <th>Route</th>\n",
       "      <th>Roadname</th>\n",
       "      <th>County</th>\n",
       "      <th>County FIPS</th>\n",
       "      <th>...</th>\n",
       "      <th>I15</th>\n",
       "      <th>I16</th>\n",
       "      <th>I17</th>\n",
       "      <th>I18</th>\n",
       "      <th>I19</th>\n",
       "      <th>I20</th>\n",
       "      <th>I21</th>\n",
       "      <th>I22</th>\n",
       "      <th>I23</th>\n",
       "      <th>I24</th>\n",
       "    </tr>\n",
       "  </thead>\n",
       "  <tbody>\n",
       "  </tbody>\n",
       "</table>\n",
       "<p>0 rows × 43 columns</p>\n",
       "</div>"
      ],
      "text/plain": [
       "Empty DataFrame\n",
       "Columns: [RC  , Station ,  Region, DOTID                                             , CCID,    FC, Route    , Roadname                                          , County         , County FIPS, Begin Desc                                                  , End Desc                                                    , Station ID,       ROAD, One-Way,       YEAR,      MONTH,        DAY, DOW,         I1,         I2,         I3,         I4,         I5,         I6,         I7,         I8,         I9,        I10,        I11,        I12,        I13,        I14,        I15,        I16,        I17,        I18,        I19,        I20,        I21,        I22,        I23,        I24]\n",
       "Index: []\n",
       "\n",
       "[0 rows x 43 columns]"
      ]
     },
     "execution_count": 5,
     "metadata": {},
     "output_type": "execute_result"
    }
   ],
   "source": [
    "data = pd.DataFrame(columns = list(data.columns))\n",
    "data"
   ]
  },
  {
   "cell_type": "markdown",
   "metadata": {},
   "source": [
    "Read all files in directory for all years and merge them into a DataFrame \"data\""
   ]
  },
  {
   "cell_type": "code",
   "execution_count": 6,
   "metadata": {
    "collapsed": false,
    "scrolled": true
   },
   "outputs": [
    {
     "name": "stdout",
     "output_type": "stream",
     "text": [
      "C:\\Users\\Travis Park\\Documents\\Big Data Python\\New_NY\\CC_VOL_R1_2012\\CC_VOL_R1_2012.csv\n",
      "C:\\Users\\Travis Park\\Documents\\Big Data Python\\New_NY\\CC_VOL_R1_2013\\CC_VOL_R1_2013.csv\n",
      "C:\\Users\\Travis Park\\Documents\\Big Data Python\\New_NY\\CC_VOL_R1_2014\\CC_VOL_R1_2014.csv\n",
      "C:\\Users\\Travis Park\\Documents\\Big Data Python\\New_NY\\CC_VOL_R2_2012\\CC_VOL_R2_2012.csv\n",
      "C:\\Users\\Travis Park\\Documents\\Big Data Python\\New_NY\\CC_VOL_R2_2013\\CC_VOL_R2_2013.csv\n",
      "C:\\Users\\Travis Park\\Documents\\Big Data Python\\New_NY\\CC_VOL_R2_2014\\CC_VOL_R2_2014.csv\n",
      "C:\\Users\\Travis Park\\Documents\\Big Data Python\\New_NY\\CC_VOL_R3_2012\\CC_VOL_R3_2012.csv\n",
      "C:\\Users\\Travis Park\\Documents\\Big Data Python\\New_NY\\CC_VOL_R3_2013\\CC_VOL_R3_2013.csv\n",
      "C:\\Users\\Travis Park\\Documents\\Big Data Python\\New_NY\\CC_VOL_R3_2014\\CC_VOL_R3_2014.csv\n",
      "C:\\Users\\Travis Park\\Documents\\Big Data Python\\New_NY\\CC_VOL_R4_2012\\CC_VOL_R4_2012.csv\n",
      "C:\\Users\\Travis Park\\Documents\\Big Data Python\\New_NY\\CC_VOL_R4_2013\\CC_VOL_R4_2013.csv\n",
      "C:\\Users\\Travis Park\\Documents\\Big Data Python\\New_NY\\CC_VOL_R4_2014\\CC_VOL_R4_2014.csv\n",
      "C:\\Users\\Travis Park\\Documents\\Big Data Python\\New_NY\\CC_VOL_R5_2012\\CC_VOL_R5_2012.csv\n",
      "C:\\Users\\Travis Park\\Documents\\Big Data Python\\New_NY\\CC_VOL_R5_2013\\CC_VOL_R5_2013.csv\n",
      "C:\\Users\\Travis Park\\Documents\\Big Data Python\\New_NY\\CC_VOL_R5_2014\\CC_VOL_R5_2014.csv\n",
      "C:\\Users\\Travis Park\\Documents\\Big Data Python\\New_NY\\CC_VOL_R6_2012\\CC_VOL_R6_2012.csv\n",
      "C:\\Users\\Travis Park\\Documents\\Big Data Python\\New_NY\\CC_VOL_R6_2013\\CC_VOL_R6_2013.csv\n",
      "C:\\Users\\Travis Park\\Documents\\Big Data Python\\New_NY\\CC_VOL_R6_2014\\CC_VOL_R6_2014.csv\n",
      "C:\\Users\\Travis Park\\Documents\\Big Data Python\\New_NY\\CC_VOL_R7_2012\\CC_VOL_R7_2012.csv\n",
      "C:\\Users\\Travis Park\\Documents\\Big Data Python\\New_NY\\CC_VOL_R7_2013\\CC_VOL_R7_2013.csv\n",
      "C:\\Users\\Travis Park\\Documents\\Big Data Python\\New_NY\\CC_VOL_R7_2014\\CC_VOL_R7_2014.csv\n",
      "C:\\Users\\Travis Park\\Documents\\Big Data Python\\New_NY\\CC_VOL_R8_2012\\CC_VOL_R8_2012.csv\n",
      "C:\\Users\\Travis Park\\Documents\\Big Data Python\\New_NY\\CC_VOL_R8_2013\\CC_VOL_R8_2013.csv\n",
      "C:\\Users\\Travis Park\\Documents\\Big Data Python\\New_NY\\CC_VOL_R8_2014\\CC_VOL_R8_2014.csv\n",
      "C:\\Users\\Travis Park\\Documents\\Big Data Python\\New_NY\\CC_VOL_R9_2012\\CC_VOL_R9_2012.csv\n",
      "C:\\Users\\Travis Park\\Documents\\Big Data Python\\New_NY\\CC_VOL_R9_2013\\CC_VOL_R9_2013.csv\n",
      "C:\\Users\\Travis Park\\Documents\\Big Data Python\\New_NY\\CC_VOL_R9_2014\\CC_VOL_R9_2014.csv\n",
      "C:\\Users\\Travis Park\\Documents\\Big Data Python\\New_NY\\CC_VOL_R10_2012\\CC_VOL_R10_2012.csv\n",
      "C:\\Users\\Travis Park\\Documents\\Big Data Python\\New_NY\\CC_VOL_R10_2013\\CC_VOL_R10_2013.csv\n",
      "C:\\Users\\Travis Park\\Documents\\Big Data Python\\New_NY\\CC_VOL_R10_2014\\CC_VOL_R10_2014.csv\n",
      "C:\\Users\\Travis Park\\Documents\\Big Data Python\\New_NY\\CC_VOL_R11_2012\\CC_VOL_R11_2012.csv\n",
      "C:\\Users\\Travis Park\\Documents\\Big Data Python\\New_NY\\CC_VOL_R11_2013\\CC_VOL_R11_2013.csv\n",
      "C:\\Users\\Travis Park\\Documents\\Big Data Python\\New_NY\\CC_VOL_R11_2014\\CC_VOL_R11_2014.csv\n"
     ]
    }
   ],
   "source": [
    "i = 0\n",
    "while i <len(r):\n",
    "    j = 0\n",
    "    while j < len(y):\n",
    "        file= dir + 'CC_VOL_R' + r[i] + '_' + str(y[j]) + '\\\\CC_VOL_R'+ r[i] + '_' + str(y[j]) +'.csv'\n",
    "        file_df = pd.read_csv(file)\n",
    "        data = data.append(file_df)\n",
    "        print(file)\n",
    "        j=j+1\n",
    "    i=i+1"
   ]
  },
  {
   "cell_type": "code",
   "execution_count": 7,
   "metadata": {
    "collapsed": false
   },
   "outputs": [
    {
     "data": {
      "text/html": [
       "<div>\n",
       "<table border=\"1\" class=\"dataframe\">\n",
       "  <thead>\n",
       "    <tr style=\"text-align: right;\">\n",
       "      <th></th>\n",
       "      <th>RC</th>\n",
       "      <th>Station</th>\n",
       "      <th>Region</th>\n",
       "      <th>DOTID</th>\n",
       "      <th>CCID</th>\n",
       "      <th>FC</th>\n",
       "      <th>Route</th>\n",
       "      <th>Roadname</th>\n",
       "      <th>County</th>\n",
       "      <th>County FIPS</th>\n",
       "      <th>...</th>\n",
       "      <th>I15</th>\n",
       "      <th>I16</th>\n",
       "      <th>I17</th>\n",
       "      <th>I18</th>\n",
       "      <th>I19</th>\n",
       "      <th>I20</th>\n",
       "      <th>I21</th>\n",
       "      <th>I22</th>\n",
       "      <th>I23</th>\n",
       "      <th>I24</th>\n",
       "    </tr>\n",
       "  </thead>\n",
       "  <tbody>\n",
       "    <tr>\n",
       "      <th>0</th>\n",
       "      <td>11.0</td>\n",
       "      <td>137.0</td>\n",
       "      <td>1.0</td>\n",
       "      <td>100514.0</td>\n",
       "      <td>1141.0</td>\n",
       "      <td>14.0</td>\n",
       "      <td>US9</td>\n",
       "      <td>...</td>\n",
       "      <td>ALBANY</td>\n",
       "      <td>1.0</td>\n",
       "      <td>...</td>\n",
       "      <td>729.0</td>\n",
       "      <td>815.0</td>\n",
       "      <td>893.0</td>\n",
       "      <td>858.0</td>\n",
       "      <td>648.0</td>\n",
       "      <td>487.0</td>\n",
       "      <td>338.0</td>\n",
       "      <td>203.0</td>\n",
       "      <td>116.0</td>\n",
       "      <td>88.0</td>\n",
       "    </tr>\n",
       "    <tr>\n",
       "      <th>1</th>\n",
       "      <td>11.0</td>\n",
       "      <td>137.0</td>\n",
       "      <td>1.0</td>\n",
       "      <td>100514.0</td>\n",
       "      <td>1141.0</td>\n",
       "      <td>14.0</td>\n",
       "      <td>US9</td>\n",
       "      <td>...</td>\n",
       "      <td>ALBANY</td>\n",
       "      <td>1.0</td>\n",
       "      <td>...</td>\n",
       "      <td>0.0</td>\n",
       "      <td>0.0</td>\n",
       "      <td>0.0</td>\n",
       "      <td>0.0</td>\n",
       "      <td>0.0</td>\n",
       "      <td>0.0</td>\n",
       "      <td>0.0</td>\n",
       "      <td>0.0</td>\n",
       "      <td>0.0</td>\n",
       "      <td>0.0</td>\n",
       "    </tr>\n",
       "    <tr>\n",
       "      <th>2</th>\n",
       "      <td>11.0</td>\n",
       "      <td>137.0</td>\n",
       "      <td>1.0</td>\n",
       "      <td>100514.0</td>\n",
       "      <td>1141.0</td>\n",
       "      <td>14.0</td>\n",
       "      <td>US9</td>\n",
       "      <td>...</td>\n",
       "      <td>ALBANY</td>\n",
       "      <td>1.0</td>\n",
       "      <td>...</td>\n",
       "      <td>773.0</td>\n",
       "      <td>828.0</td>\n",
       "      <td>881.0</td>\n",
       "      <td>876.0</td>\n",
       "      <td>660.0</td>\n",
       "      <td>518.0</td>\n",
       "      <td>357.0</td>\n",
       "      <td>213.0</td>\n",
       "      <td>142.0</td>\n",
       "      <td>112.0</td>\n",
       "    </tr>\n",
       "    <tr>\n",
       "      <th>3</th>\n",
       "      <td>11.0</td>\n",
       "      <td>137.0</td>\n",
       "      <td>1.0</td>\n",
       "      <td>100514.0</td>\n",
       "      <td>1141.0</td>\n",
       "      <td>14.0</td>\n",
       "      <td>US9</td>\n",
       "      <td>...</td>\n",
       "      <td>ALBANY</td>\n",
       "      <td>1.0</td>\n",
       "      <td>...</td>\n",
       "      <td>0.0</td>\n",
       "      <td>0.0</td>\n",
       "      <td>0.0</td>\n",
       "      <td>0.0</td>\n",
       "      <td>0.0</td>\n",
       "      <td>0.0</td>\n",
       "      <td>0.0</td>\n",
       "      <td>0.0</td>\n",
       "      <td>0.0</td>\n",
       "      <td>0.0</td>\n",
       "    </tr>\n",
       "    <tr>\n",
       "      <th>4</th>\n",
       "      <td>11.0</td>\n",
       "      <td>137.0</td>\n",
       "      <td>1.0</td>\n",
       "      <td>100514.0</td>\n",
       "      <td>1141.0</td>\n",
       "      <td>14.0</td>\n",
       "      <td>US9</td>\n",
       "      <td>...</td>\n",
       "      <td>ALBANY</td>\n",
       "      <td>1.0</td>\n",
       "      <td>...</td>\n",
       "      <td>880.0</td>\n",
       "      <td>939.0</td>\n",
       "      <td>954.0</td>\n",
       "      <td>890.0</td>\n",
       "      <td>697.0</td>\n",
       "      <td>544.0</td>\n",
       "      <td>364.0</td>\n",
       "      <td>302.0</td>\n",
       "      <td>192.0</td>\n",
       "      <td>148.0</td>\n",
       "    </tr>\n",
       "  </tbody>\n",
       "</table>\n",
       "<p>5 rows × 43 columns</p>\n",
       "</div>"
      ],
      "text/plain": [
       "   RC    Station    Region  \\\n",
       "0  11.0     137.0      1.0   \n",
       "1  11.0     137.0      1.0   \n",
       "2  11.0     137.0      1.0   \n",
       "3  11.0     137.0      1.0   \n",
       "4  11.0     137.0      1.0   \n",
       "\n",
       "   DOTID                                                 CCID     FC  \\\n",
       "0                                           100514.0   1141.0   14.0   \n",
       "1                                           100514.0   1141.0   14.0   \n",
       "2                                           100514.0   1141.0   14.0   \n",
       "3                                           100514.0   1141.0   14.0   \n",
       "4                                           100514.0   1141.0   14.0   \n",
       "\n",
       "   Route     Roadname                                            \\\n",
       "0  US9                                                      ...   \n",
       "1  US9                                                      ...   \n",
       "2  US9                                                      ...   \n",
       "3  US9                                                      ...   \n",
       "4  US9                                                      ...   \n",
       "\n",
       "   County           County FIPS     ...            I15        I16         I17  \\\n",
       "0  ALBANY                   1.0     ...          729.0      815.0       893.0   \n",
       "1  ALBANY                   1.0     ...            0.0        0.0         0.0   \n",
       "2  ALBANY                   1.0     ...          773.0      828.0       881.0   \n",
       "3  ALBANY                   1.0     ...            0.0        0.0         0.0   \n",
       "4  ALBANY                   1.0     ...          880.0      939.0       954.0   \n",
       "\n",
       "          I18        I19         I20         I21         I22         I23  \\\n",
       "0       858.0      648.0       487.0       338.0       203.0       116.0   \n",
       "1         0.0        0.0         0.0         0.0         0.0         0.0   \n",
       "2       876.0      660.0       518.0       357.0       213.0       142.0   \n",
       "3         0.0        0.0         0.0         0.0         0.0         0.0   \n",
       "4       890.0      697.0       544.0       364.0       302.0       192.0   \n",
       "\n",
       "          I24  \n",
       "0        88.0  \n",
       "1         0.0  \n",
       "2       112.0  \n",
       "3         0.0  \n",
       "4       148.0  \n",
       "\n",
       "[5 rows x 43 columns]"
      ]
     },
     "execution_count": 7,
     "metadata": {},
     "output_type": "execute_result"
    }
   ],
   "source": [
    "data.head()"
   ]
  },
  {
   "cell_type": "code",
   "execution_count": 8,
   "metadata": {
    "collapsed": false
   },
   "outputs": [],
   "source": [
    "cols = ['RC',\n",
    " 'Station',\n",
    " 'Region',\n",
    " 'DOTID',\n",
    " 'CCID',\n",
    " 'FC',\n",
    " 'Route',\n",
    " 'Roadname',\n",
    " 'County',\n",
    " 'County FIPS',\n",
    " 'Begin Desc',\n",
    " 'End Desc',\n",
    " 'Station ID',\n",
    " 'ROAD',\n",
    " 'One-Way',\n",
    " 'YEAR',\n",
    " 'MONTH',\n",
    " 'DAY',\n",
    " 'DOW',\n",
    " 'I1',\n",
    " 'I2',\n",
    " 'I3',\n",
    " 'I4',\n",
    " 'I5',\n",
    " 'I6',\n",
    " 'I7',\n",
    " 'I8',\n",
    " 'I9',\n",
    " 'I10',\n",
    " 'I11',\n",
    " 'I12',\n",
    " 'I13',\n",
    " 'I14',\n",
    " 'I15',\n",
    " 'I16',\n",
    " 'I17',\n",
    " 'I18',\n",
    " 'I19',\n",
    " 'I20',\n",
    " 'I21',\n",
    " 'I22',\n",
    " 'I23',\n",
    " 'I24']\n",
    "\n",
    "data.columns = cols"
   ]
  },
  {
   "cell_type": "markdown",
   "metadata": {},
   "source": [
    "Only include valid records"
   ]
  },
  {
   "cell_type": "code",
   "execution_count": 9,
   "metadata": {
    "collapsed": false
   },
   "outputs": [],
   "source": [
    "data = data[(data['ROAD'] == 99)]"
   ]
  },
  {
   "cell_type": "markdown",
   "metadata": {},
   "source": [
    "Remove some unneeded columns"
   ]
  },
  {
   "cell_type": "code",
   "execution_count": 10,
   "metadata": {
    "collapsed": true
   },
   "outputs": [],
   "source": [
    "cols = ['Region',\n",
    " 'Route',\n",
    " 'County',\n",
    " 'Begin Desc',\n",
    " 'End Desc',\n",
    " 'Station ID',\n",
    " 'YEAR',\n",
    " 'MONTH',\n",
    " 'DAY',\n",
    " 'DOW',\n",
    " 'I1',\n",
    " 'I2',\n",
    " 'I3',\n",
    " 'I4',\n",
    " 'I5',\n",
    " 'I6',\n",
    " 'I7',\n",
    " 'I8',\n",
    " 'I9',\n",
    " 'I10',\n",
    " 'I11',\n",
    " 'I12',\n",
    " 'I13',\n",
    " 'I14',\n",
    " 'I15',\n",
    " 'I16',\n",
    " 'I17',\n",
    " 'I18',\n",
    " 'I19',\n",
    " 'I20',\n",
    " 'I21',\n",
    " 'I22',\n",
    " 'I23',\n",
    " 'I24']\n",
    "\n",
    "data = data[cols]"
   ]
  },
  {
   "cell_type": "code",
   "execution_count": 11,
   "metadata": {
    "collapsed": false,
    "scrolled": true
   },
   "outputs": [
    {
     "data": {
      "text/html": [
       "<div>\n",
       "<table border=\"1\" class=\"dataframe\">\n",
       "  <thead>\n",
       "    <tr style=\"text-align: right;\">\n",
       "      <th></th>\n",
       "      <th>Region</th>\n",
       "      <th>Route</th>\n",
       "      <th>County</th>\n",
       "      <th>Begin Desc</th>\n",
       "      <th>End Desc</th>\n",
       "      <th>Station ID</th>\n",
       "      <th>YEAR</th>\n",
       "      <th>MONTH</th>\n",
       "      <th>DAY</th>\n",
       "      <th>DOW</th>\n",
       "      <th>...</th>\n",
       "      <th>I15</th>\n",
       "      <th>I16</th>\n",
       "      <th>I17</th>\n",
       "      <th>I18</th>\n",
       "      <th>I19</th>\n",
       "      <th>I20</th>\n",
       "      <th>I21</th>\n",
       "      <th>I22</th>\n",
       "      <th>I23</th>\n",
       "      <th>I24</th>\n",
       "    </tr>\n",
       "  </thead>\n",
       "  <tbody>\n",
       "    <tr>\n",
       "      <th>0</th>\n",
       "      <td>1.0</td>\n",
       "      <td>US9</td>\n",
       "      <td>ALBANY</td>\n",
       "      <td>MAXWELL RD                                    ...</td>\n",
       "      <td>RT 155                                        ...</td>\n",
       "      <td>110137.0</td>\n",
       "      <td>2012.0</td>\n",
       "      <td>2.0</td>\n",
       "      <td>1.0</td>\n",
       "      <td>4.0</td>\n",
       "      <td>...</td>\n",
       "      <td>729.0</td>\n",
       "      <td>815.0</td>\n",
       "      <td>893.0</td>\n",
       "      <td>858.0</td>\n",
       "      <td>648.0</td>\n",
       "      <td>487.0</td>\n",
       "      <td>338.0</td>\n",
       "      <td>203.0</td>\n",
       "      <td>116.0</td>\n",
       "      <td>88.0</td>\n",
       "    </tr>\n",
       "    <tr>\n",
       "      <th>2</th>\n",
       "      <td>1.0</td>\n",
       "      <td>US9</td>\n",
       "      <td>ALBANY</td>\n",
       "      <td>MAXWELL RD                                    ...</td>\n",
       "      <td>RT 155                                        ...</td>\n",
       "      <td>110137.0</td>\n",
       "      <td>2012.0</td>\n",
       "      <td>2.0</td>\n",
       "      <td>2.0</td>\n",
       "      <td>5.0</td>\n",
       "      <td>...</td>\n",
       "      <td>773.0</td>\n",
       "      <td>828.0</td>\n",
       "      <td>881.0</td>\n",
       "      <td>876.0</td>\n",
       "      <td>660.0</td>\n",
       "      <td>518.0</td>\n",
       "      <td>357.0</td>\n",
       "      <td>213.0</td>\n",
       "      <td>142.0</td>\n",
       "      <td>112.0</td>\n",
       "    </tr>\n",
       "    <tr>\n",
       "      <th>4</th>\n",
       "      <td>1.0</td>\n",
       "      <td>US9</td>\n",
       "      <td>ALBANY</td>\n",
       "      <td>MAXWELL RD                                    ...</td>\n",
       "      <td>RT 155                                        ...</td>\n",
       "      <td>110137.0</td>\n",
       "      <td>2012.0</td>\n",
       "      <td>2.0</td>\n",
       "      <td>3.0</td>\n",
       "      <td>6.0</td>\n",
       "      <td>...</td>\n",
       "      <td>880.0</td>\n",
       "      <td>939.0</td>\n",
       "      <td>954.0</td>\n",
       "      <td>890.0</td>\n",
       "      <td>697.0</td>\n",
       "      <td>544.0</td>\n",
       "      <td>364.0</td>\n",
       "      <td>302.0</td>\n",
       "      <td>192.0</td>\n",
       "      <td>148.0</td>\n",
       "    </tr>\n",
       "    <tr>\n",
       "      <th>6</th>\n",
       "      <td>1.0</td>\n",
       "      <td>US9</td>\n",
       "      <td>ALBANY</td>\n",
       "      <td>MAXWELL RD                                    ...</td>\n",
       "      <td>RT 155                                        ...</td>\n",
       "      <td>110137.0</td>\n",
       "      <td>2012.0</td>\n",
       "      <td>2.0</td>\n",
       "      <td>4.0</td>\n",
       "      <td>7.0</td>\n",
       "      <td>...</td>\n",
       "      <td>762.0</td>\n",
       "      <td>802.0</td>\n",
       "      <td>754.0</td>\n",
       "      <td>602.0</td>\n",
       "      <td>529.0</td>\n",
       "      <td>357.0</td>\n",
       "      <td>254.0</td>\n",
       "      <td>224.0</td>\n",
       "      <td>168.0</td>\n",
       "      <td>163.0</td>\n",
       "    </tr>\n",
       "    <tr>\n",
       "      <th>8</th>\n",
       "      <td>1.0</td>\n",
       "      <td>US9</td>\n",
       "      <td>ALBANY</td>\n",
       "      <td>MAXWELL RD                                    ...</td>\n",
       "      <td>RT 155                                        ...</td>\n",
       "      <td>110137.0</td>\n",
       "      <td>2012.0</td>\n",
       "      <td>2.0</td>\n",
       "      <td>5.0</td>\n",
       "      <td>1.0</td>\n",
       "      <td>...</td>\n",
       "      <td>619.0</td>\n",
       "      <td>570.0</td>\n",
       "      <td>545.0</td>\n",
       "      <td>449.0</td>\n",
       "      <td>229.0</td>\n",
       "      <td>135.0</td>\n",
       "      <td>130.0</td>\n",
       "      <td>100.0</td>\n",
       "      <td>194.0</td>\n",
       "      <td>99.0</td>\n",
       "    </tr>\n",
       "  </tbody>\n",
       "</table>\n",
       "<p>5 rows × 34 columns</p>\n",
       "</div>"
      ],
      "text/plain": [
       "   Region      Route           County  \\\n",
       "0     1.0  US9        ALBANY            \n",
       "2     1.0  US9        ALBANY            \n",
       "4     1.0  US9        ALBANY            \n",
       "6     1.0  US9        ALBANY            \n",
       "8     1.0  US9        ALBANY            \n",
       "\n",
       "                                          Begin Desc  \\\n",
       "0  MAXWELL RD                                    ...   \n",
       "2  MAXWELL RD                                    ...   \n",
       "4  MAXWELL RD                                    ...   \n",
       "6  MAXWELL RD                                    ...   \n",
       "8  MAXWELL RD                                    ...   \n",
       "\n",
       "                                            End Desc  Station ID    YEAR  \\\n",
       "0  RT 155                                        ...    110137.0  2012.0   \n",
       "2  RT 155                                        ...    110137.0  2012.0   \n",
       "4  RT 155                                        ...    110137.0  2012.0   \n",
       "6  RT 155                                        ...    110137.0  2012.0   \n",
       "8  RT 155                                        ...    110137.0  2012.0   \n",
       "\n",
       "   MONTH  DAY  DOW  ...      I15    I16    I17    I18    I19    I20    I21  \\\n",
       "0    2.0  1.0  4.0  ...    729.0  815.0  893.0  858.0  648.0  487.0  338.0   \n",
       "2    2.0  2.0  5.0  ...    773.0  828.0  881.0  876.0  660.0  518.0  357.0   \n",
       "4    2.0  3.0  6.0  ...    880.0  939.0  954.0  890.0  697.0  544.0  364.0   \n",
       "6    2.0  4.0  7.0  ...    762.0  802.0  754.0  602.0  529.0  357.0  254.0   \n",
       "8    2.0  5.0  1.0  ...    619.0  570.0  545.0  449.0  229.0  135.0  130.0   \n",
       "\n",
       "     I22    I23    I24  \n",
       "0  203.0  116.0   88.0  \n",
       "2  213.0  142.0  112.0  \n",
       "4  302.0  192.0  148.0  \n",
       "6  224.0  168.0  163.0  \n",
       "8  100.0  194.0   99.0  \n",
       "\n",
       "[5 rows x 34 columns]"
      ]
     },
     "execution_count": 11,
     "metadata": {},
     "output_type": "execute_result"
    }
   ],
   "source": [
    "data.head()"
   ]
  },
  {
   "cell_type": "markdown",
   "metadata": {},
   "source": [
    "Unpivot the data so that the there is one column \"chHour\" with the value for that record in it"
   ]
  },
  {
   "cell_type": "code",
   "execution_count": 12,
   "metadata": {
    "collapsed": false
   },
   "outputs": [],
   "source": [
    "l_data = pd.melt(data, id_vars = ['Region','Route','County','Begin Desc','End Desc','Station ID','YEAR','MONTH','DAY','DOW'],\n",
    "       value_vars = ['I1','I2','I3','I4','I5','I6','I7','I8','I9','I10','I11','I12','I13','I14','I15','I16','I17','I18','I19','I20','I21','I22','I23','I24'],\n",
    "       var_name = 'chHour',value_name = 'Volume')"
   ]
  },
  {
   "cell_type": "code",
   "execution_count": 13,
   "metadata": {
    "collapsed": false
   },
   "outputs": [
    {
     "name": "stdout",
     "output_type": "stream",
     "text": [
      "<class 'pandas.core.frame.DataFrame'>\n",
      "RangeIndex: 3842760 entries, 0 to 3842759\n",
      "Data columns (total 13 columns):\n",
      "Region        float64\n",
      "Route         object\n",
      "County        object\n",
      "Begin Desc    object\n",
      "End Desc      object\n",
      "Station ID    float64\n",
      "YEAR          float64\n",
      "MONTH         float64\n",
      "DAY           float64\n",
      "DOW           float64\n",
      "chHour        object\n",
      "Volume        float64\n",
      "iHour         float64\n",
      "dtypes: float64(8), object(5)\n",
      "memory usage: 381.1+ MB\n"
     ]
    }
   ],
   "source": [
    "l_data['iHour'] = l_data['chHour'].str[1:]\n",
    "l_data['iHour'] = l_data['iHour'].astype(float)\n",
    "l_data.info()"
   ]
  },
  {
   "cell_type": "code",
   "execution_count": 14,
   "metadata": {
    "collapsed": false,
    "scrolled": true
   },
   "outputs": [
    {
     "name": "stdout",
     "output_type": "stream",
     "text": [
      "(1466712, 7)\n"
     ]
    },
    {
     "data": {
      "text/html": [
       "<div>\n",
       "<table border=\"1\" class=\"dataframe\">\n",
       "  <thead>\n",
       "    <tr style=\"text-align: right;\">\n",
       "      <th></th>\n",
       "      <th>Region</th>\n",
       "      <th>County</th>\n",
       "      <th>YEAR</th>\n",
       "      <th>MONTH</th>\n",
       "      <th>DAY</th>\n",
       "      <th>iHour</th>\n",
       "      <th>Volume</th>\n",
       "    </tr>\n",
       "  </thead>\n",
       "  <tbody>\n",
       "    <tr>\n",
       "      <th>0</th>\n",
       "      <td>1.0</td>\n",
       "      <td>ALBANY</td>\n",
       "      <td>2012.0</td>\n",
       "      <td>2.0</td>\n",
       "      <td>1.0</td>\n",
       "      <td>1.0</td>\n",
       "      <td>49.0</td>\n",
       "    </tr>\n",
       "    <tr>\n",
       "      <th>1</th>\n",
       "      <td>1.0</td>\n",
       "      <td>ALBANY</td>\n",
       "      <td>2012.0</td>\n",
       "      <td>2.0</td>\n",
       "      <td>1.0</td>\n",
       "      <td>2.0</td>\n",
       "      <td>19.0</td>\n",
       "    </tr>\n",
       "    <tr>\n",
       "      <th>2</th>\n",
       "      <td>1.0</td>\n",
       "      <td>ALBANY</td>\n",
       "      <td>2012.0</td>\n",
       "      <td>2.0</td>\n",
       "      <td>1.0</td>\n",
       "      <td>3.0</td>\n",
       "      <td>17.0</td>\n",
       "    </tr>\n",
       "    <tr>\n",
       "      <th>3</th>\n",
       "      <td>1.0</td>\n",
       "      <td>ALBANY</td>\n",
       "      <td>2012.0</td>\n",
       "      <td>2.0</td>\n",
       "      <td>1.0</td>\n",
       "      <td>4.0</td>\n",
       "      <td>9.0</td>\n",
       "    </tr>\n",
       "    <tr>\n",
       "      <th>4</th>\n",
       "      <td>1.0</td>\n",
       "      <td>ALBANY</td>\n",
       "      <td>2012.0</td>\n",
       "      <td>2.0</td>\n",
       "      <td>1.0</td>\n",
       "      <td>5.0</td>\n",
       "      <td>25.0</td>\n",
       "    </tr>\n",
       "  </tbody>\n",
       "</table>\n",
       "</div>"
      ],
      "text/plain": [
       "   Region           County    YEAR  MONTH  DAY  iHour  Volume\n",
       "0     1.0  ALBANY           2012.0    2.0  1.0    1.0    49.0\n",
       "1     1.0  ALBANY           2012.0    2.0  1.0    2.0    19.0\n",
       "2     1.0  ALBANY           2012.0    2.0  1.0    3.0    17.0\n",
       "3     1.0  ALBANY           2012.0    2.0  1.0    4.0     9.0\n",
       "4     1.0  ALBANY           2012.0    2.0  1.0    5.0    25.0"
      ]
     },
     "execution_count": 14,
     "metadata": {},
     "output_type": "execute_result"
    }
   ],
   "source": [
    "p_data = pd.pivot_table(l_data, values = 'Volume',\n",
    "                     index = ['Region','County','YEAR','MONTH','DAY','iHour'], aggfunc = np.mean)\n",
    "p_data = pd.DataFrame(p_data)\n",
    "p_data.reset_index(inplace = True)\n",
    "print(p_data.shape)\n",
    "p_data.head()"
   ]
  },
  {
   "cell_type": "markdown",
   "metadata": {},
   "source": [
    "Clean County field"
   ]
  },
  {
   "cell_type": "code",
   "execution_count": 15,
   "metadata": {
    "collapsed": false
   },
   "outputs": [
    {
     "data": {
      "text/html": [
       "<div>\n",
       "<table border=\"1\" class=\"dataframe\">\n",
       "  <thead>\n",
       "    <tr style=\"text-align: right;\">\n",
       "      <th></th>\n",
       "      <th>Region</th>\n",
       "      <th>County</th>\n",
       "      <th>YEAR</th>\n",
       "      <th>MONTH</th>\n",
       "      <th>DAY</th>\n",
       "      <th>iHour</th>\n",
       "      <th>Volume</th>\n",
       "      <th>CountyTrim</th>\n",
       "    </tr>\n",
       "  </thead>\n",
       "  <tbody>\n",
       "    <tr>\n",
       "      <th>0</th>\n",
       "      <td>1.0</td>\n",
       "      <td>ALBANY</td>\n",
       "      <td>2012.0</td>\n",
       "      <td>2.0</td>\n",
       "      <td>1.0</td>\n",
       "      <td>1.0</td>\n",
       "      <td>49.0</td>\n",
       "      <td>ALBANY</td>\n",
       "    </tr>\n",
       "    <tr>\n",
       "      <th>1</th>\n",
       "      <td>1.0</td>\n",
       "      <td>ALBANY</td>\n",
       "      <td>2012.0</td>\n",
       "      <td>2.0</td>\n",
       "      <td>1.0</td>\n",
       "      <td>2.0</td>\n",
       "      <td>19.0</td>\n",
       "      <td>ALBANY</td>\n",
       "    </tr>\n",
       "    <tr>\n",
       "      <th>2</th>\n",
       "      <td>1.0</td>\n",
       "      <td>ALBANY</td>\n",
       "      <td>2012.0</td>\n",
       "      <td>2.0</td>\n",
       "      <td>1.0</td>\n",
       "      <td>3.0</td>\n",
       "      <td>17.0</td>\n",
       "      <td>ALBANY</td>\n",
       "    </tr>\n",
       "    <tr>\n",
       "      <th>3</th>\n",
       "      <td>1.0</td>\n",
       "      <td>ALBANY</td>\n",
       "      <td>2012.0</td>\n",
       "      <td>2.0</td>\n",
       "      <td>1.0</td>\n",
       "      <td>4.0</td>\n",
       "      <td>9.0</td>\n",
       "      <td>ALBANY</td>\n",
       "    </tr>\n",
       "    <tr>\n",
       "      <th>4</th>\n",
       "      <td>1.0</td>\n",
       "      <td>ALBANY</td>\n",
       "      <td>2012.0</td>\n",
       "      <td>2.0</td>\n",
       "      <td>1.0</td>\n",
       "      <td>5.0</td>\n",
       "      <td>25.0</td>\n",
       "      <td>ALBANY</td>\n",
       "    </tr>\n",
       "  </tbody>\n",
       "</table>\n",
       "</div>"
      ],
      "text/plain": [
       "   Region           County    YEAR  MONTH  DAY  iHour  Volume CountyTrim\n",
       "0     1.0  ALBANY           2012.0    2.0  1.0    1.0    49.0     ALBANY\n",
       "1     1.0  ALBANY           2012.0    2.0  1.0    2.0    19.0     ALBANY\n",
       "2     1.0  ALBANY           2012.0    2.0  1.0    3.0    17.0     ALBANY\n",
       "3     1.0  ALBANY           2012.0    2.0  1.0    4.0     9.0     ALBANY\n",
       "4     1.0  ALBANY           2012.0    2.0  1.0    5.0    25.0     ALBANY"
      ]
     },
     "execution_count": 15,
     "metadata": {},
     "output_type": "execute_result"
    }
   ],
   "source": [
    "p_data['CountyTrim'] = p_data['County'].str.strip()\n",
    "p_data.head()"
   ]
  },
  {
   "cell_type": "code",
   "execution_count": 16,
   "metadata": {
    "collapsed": false
   },
   "outputs": [],
   "source": [
    "#p_data.to_csv('C:\\\\Users\\\\Travis Park\\\\Google Drive\\\\Spring 2017\\\\Big Data\\\\Project\\\\Big Data Analytics\\\\AllRegions2012-2014Hours.csv')"
   ]
  },
  {
   "cell_type": "markdown",
   "metadata": {},
   "source": [
    "**Format crash dataset**"
   ]
  },
  {
   "cell_type": "code",
   "execution_count": 17,
   "metadata": {
    "collapsed": false
   },
   "outputs": [],
   "source": [
    "crash = pd.read_csv('C:\\\\Users\\\\Travis Park\\\\Google Drive\\\\Spring 2017\\\\Big Data\\\\Project\\\\Big Data Analytics\\\\ny2012-2014.csv')"
   ]
  },
  {
   "cell_type": "code",
   "execution_count": 18,
   "metadata": {
    "collapsed": false
   },
   "outputs": [
    {
     "data": {
      "text/html": [
       "<div>\n",
       "<table border=\"1\" class=\"dataframe\">\n",
       "  <thead>\n",
       "    <tr style=\"text-align: right;\">\n",
       "      <th></th>\n",
       "      <th>Time</th>\n",
       "      <th>Date</th>\n",
       "      <th>Hour</th>\n",
       "      <th>Year</th>\n",
       "      <th>Month</th>\n",
       "      <th>Day</th>\n",
       "      <th>Day.of.Week</th>\n",
       "      <th>Lighting.Conditions</th>\n",
       "      <th>Municipality</th>\n",
       "      <th>County.Name</th>\n",
       "      <th>Weather.Conditions</th>\n",
       "      <th>Road.Surface.Conditions</th>\n",
       "      <th>Event.Descriptor</th>\n",
       "      <th>Number.of.Vehicles.Involved</th>\n",
       "      <th>number.of.accidents</th>\n",
       "    </tr>\n",
       "  </thead>\n",
       "  <tbody>\n",
       "    <tr>\n",
       "      <th>0</th>\n",
       "      <td>15:15</td>\n",
       "      <td>10/20/2013</td>\n",
       "      <td>15</td>\n",
       "      <td>2013</td>\n",
       "      <td>10</td>\n",
       "      <td>20</td>\n",
       "      <td>Sunday</td>\n",
       "      <td>Daylight</td>\n",
       "      <td>BRONX</td>\n",
       "      <td>BRONX</td>\n",
       "      <td>Clear</td>\n",
       "      <td>Dry</td>\n",
       "      <td>Pedestrian</td>\n",
       "      <td>1</td>\n",
       "      <td>1</td>\n",
       "    </tr>\n",
       "    <tr>\n",
       "      <th>1</th>\n",
       "      <td>18:00</td>\n",
       "      <td>4/14/2013</td>\n",
       "      <td>18</td>\n",
       "      <td>2013</td>\n",
       "      <td>4</td>\n",
       "      <td>14</td>\n",
       "      <td>Sunday</td>\n",
       "      <td>Unknown</td>\n",
       "      <td>KINGS</td>\n",
       "      <td>KINGS</td>\n",
       "      <td>Unknown</td>\n",
       "      <td>Unknown</td>\n",
       "      <td>Motor Vehicle</td>\n",
       "      <td>2</td>\n",
       "      <td>1</td>\n",
       "    </tr>\n",
       "    <tr>\n",
       "      <th>2</th>\n",
       "      <td>18:23</td>\n",
       "      <td>11/10/2012</td>\n",
       "      <td>18</td>\n",
       "      <td>2012</td>\n",
       "      <td>11</td>\n",
       "      <td>10</td>\n",
       "      <td>Saturday</td>\n",
       "      <td>Dark-Road Unlighted</td>\n",
       "      <td>ROME</td>\n",
       "      <td>ONEIDA</td>\n",
       "      <td>Cloudy</td>\n",
       "      <td>Dry</td>\n",
       "      <td>Animal</td>\n",
       "      <td>1</td>\n",
       "      <td>1</td>\n",
       "    </tr>\n",
       "    <tr>\n",
       "      <th>3</th>\n",
       "      <td>22:21</td>\n",
       "      <td>6/14/2013</td>\n",
       "      <td>22</td>\n",
       "      <td>2013</td>\n",
       "      <td>6</td>\n",
       "      <td>14</td>\n",
       "      <td>Friday</td>\n",
       "      <td>Dark-Road Unlighted</td>\n",
       "      <td>SCOTT</td>\n",
       "      <td>CORTLAND</td>\n",
       "      <td>Clear</td>\n",
       "      <td>Dry</td>\n",
       "      <td>Animal</td>\n",
       "      <td>1</td>\n",
       "      <td>1</td>\n",
       "    </tr>\n",
       "    <tr>\n",
       "      <th>4</th>\n",
       "      <td>18:25</td>\n",
       "      <td>9/16/2012</td>\n",
       "      <td>18</td>\n",
       "      <td>2012</td>\n",
       "      <td>9</td>\n",
       "      <td>16</td>\n",
       "      <td>Sunday</td>\n",
       "      <td>Dusk</td>\n",
       "      <td>LIVONIA</td>\n",
       "      <td>LIVINGSTON</td>\n",
       "      <td>Clear</td>\n",
       "      <td>Dry</td>\n",
       "      <td>Animal</td>\n",
       "      <td>1</td>\n",
       "      <td>1</td>\n",
       "    </tr>\n",
       "  </tbody>\n",
       "</table>\n",
       "</div>"
      ],
      "text/plain": [
       "    Time        Date  Hour  Year  Month  Day Day.of.Week  Lighting.Conditions  \\\n",
       "0  15:15  10/20/2013    15  2013     10   20      Sunday             Daylight   \n",
       "1  18:00   4/14/2013    18  2013      4   14      Sunday              Unknown   \n",
       "2  18:23  11/10/2012    18  2012     11   10    Saturday  Dark-Road Unlighted   \n",
       "3  22:21   6/14/2013    22  2013      6   14      Friday  Dark-Road Unlighted   \n",
       "4  18:25   9/16/2012    18  2012      9   16      Sunday                 Dusk   \n",
       "\n",
       "  Municipality County.Name Weather.Conditions Road.Surface.Conditions  \\\n",
       "0        BRONX       BRONX              Clear                     Dry   \n",
       "1        KINGS       KINGS            Unknown                 Unknown   \n",
       "2         ROME      ONEIDA             Cloudy                     Dry   \n",
       "3        SCOTT    CORTLAND              Clear                     Dry   \n",
       "4      LIVONIA  LIVINGSTON              Clear                     Dry   \n",
       "\n",
       "  Event.Descriptor  Number.of.Vehicles.Involved  number.of.accidents  \n",
       "0       Pedestrian                            1                    1  \n",
       "1    Motor Vehicle                            2                    1  \n",
       "2           Animal                            1                    1  \n",
       "3           Animal                            1                    1  \n",
       "4           Animal                            1                    1  "
      ]
     },
     "execution_count": 18,
     "metadata": {},
     "output_type": "execute_result"
    }
   ],
   "source": [
    "crash.head()"
   ]
  },
  {
   "cell_type": "code",
   "execution_count": 19,
   "metadata": {
    "collapsed": false,
    "scrolled": true
   },
   "outputs": [
    {
     "name": "stdout",
     "output_type": "stream",
     "text": [
      "<class 'pandas.core.frame.DataFrame'>\n",
      "RangeIndex: 899013 entries, 0 to 899012\n",
      "Data columns (total 15 columns):\n",
      "Time                           896803 non-null object\n",
      "Date                           899013 non-null object\n",
      "Hour                           899013 non-null int64\n",
      "Year                           899013 non-null int64\n",
      "Month                          899013 non-null int64\n",
      "Day                            899013 non-null int64\n",
      "Day.of.Week                    899013 non-null object\n",
      "Lighting.Conditions            899013 non-null object\n",
      "Municipality                   886870 non-null object\n",
      "County.Name                    899013 non-null object\n",
      "Weather.Conditions             899013 non-null object\n",
      "Road.Surface.Conditions        899013 non-null object\n",
      "Event.Descriptor               899002 non-null object\n",
      "Number.of.Vehicles.Involved    899013 non-null int64\n",
      "number.of.accidents            899013 non-null int64\n",
      "dtypes: int64(6), object(9)\n",
      "memory usage: 102.9+ MB\n"
     ]
    }
   ],
   "source": [
    "crash.info()"
   ]
  },
  {
   "cell_type": "markdown",
   "metadata": {},
   "source": [
    "Pivot crash dataset so that it displays the number of accidents and vehicles involved per Municipality per hour, per month, per day of week, per weather condidtion, per road condition"
   ]
  },
  {
   "cell_type": "code",
   "execution_count": 20,
   "metadata": {
    "collapsed": false
   },
   "outputs": [
    {
     "name": "stdout",
     "output_type": "stream",
     "text": [
      "(737437, 2)\n"
     ]
    }
   ],
   "source": [
    "p_crash = pd.pivot_table(crash, values = ['number.of.accidents','Number.of.Vehicles.Involved'],\n",
    "                     index = ['County.Name','Municipality','Date','Year','Month','Day','Day.of.Week','Hour','Weather.Conditions','Road.Surface.Conditions'], aggfunc = np.sum)\n",
    "\n",
    "print(p_crash.shape)"
   ]
  },
  {
   "cell_type": "code",
   "execution_count": 21,
   "metadata": {
    "collapsed": false,
    "scrolled": true
   },
   "outputs": [
    {
     "data": {
      "text/html": [
       "<div>\n",
       "<table border=\"1\" class=\"dataframe\">\n",
       "  <thead>\n",
       "    <tr style=\"text-align: right;\">\n",
       "      <th></th>\n",
       "      <th>County.Name</th>\n",
       "      <th>Municipality</th>\n",
       "      <th>Date</th>\n",
       "      <th>Year</th>\n",
       "      <th>Month</th>\n",
       "      <th>Day</th>\n",
       "      <th>Day.of.Week</th>\n",
       "      <th>Hour</th>\n",
       "      <th>Weather.Conditions</th>\n",
       "      <th>Road.Surface.Conditions</th>\n",
       "      <th>Number.of.Vehicles.Involved</th>\n",
       "      <th>number.of.accidents</th>\n",
       "    </tr>\n",
       "  </thead>\n",
       "  <tbody>\n",
       "    <tr>\n",
       "      <th>0</th>\n",
       "      <td>ALBANY</td>\n",
       "      <td>ALBANY</td>\n",
       "      <td>1/1/2012</td>\n",
       "      <td>2012</td>\n",
       "      <td>1</td>\n",
       "      <td>1</td>\n",
       "      <td>Sunday</td>\n",
       "      <td>0</td>\n",
       "      <td>Clear</td>\n",
       "      <td>Dry</td>\n",
       "      <td>3</td>\n",
       "      <td>1</td>\n",
       "    </tr>\n",
       "    <tr>\n",
       "      <th>1</th>\n",
       "      <td>ALBANY</td>\n",
       "      <td>ALBANY</td>\n",
       "      <td>1/1/2012</td>\n",
       "      <td>2012</td>\n",
       "      <td>1</td>\n",
       "      <td>1</td>\n",
       "      <td>Sunday</td>\n",
       "      <td>1</td>\n",
       "      <td>Cloudy</td>\n",
       "      <td>Wet</td>\n",
       "      <td>2</td>\n",
       "      <td>1</td>\n",
       "    </tr>\n",
       "    <tr>\n",
       "      <th>2</th>\n",
       "      <td>ALBANY</td>\n",
       "      <td>ALBANY</td>\n",
       "      <td>1/1/2012</td>\n",
       "      <td>2012</td>\n",
       "      <td>1</td>\n",
       "      <td>1</td>\n",
       "      <td>Sunday</td>\n",
       "      <td>15</td>\n",
       "      <td>Clear</td>\n",
       "      <td>Dry</td>\n",
       "      <td>2</td>\n",
       "      <td>1</td>\n",
       "    </tr>\n",
       "    <tr>\n",
       "      <th>3</th>\n",
       "      <td>ALBANY</td>\n",
       "      <td>ALBANY</td>\n",
       "      <td>1/1/2012</td>\n",
       "      <td>2012</td>\n",
       "      <td>1</td>\n",
       "      <td>1</td>\n",
       "      <td>Sunday</td>\n",
       "      <td>16</td>\n",
       "      <td>Cloudy</td>\n",
       "      <td>Dry</td>\n",
       "      <td>2</td>\n",
       "      <td>1</td>\n",
       "    </tr>\n",
       "    <tr>\n",
       "      <th>4</th>\n",
       "      <td>ALBANY</td>\n",
       "      <td>ALBANY</td>\n",
       "      <td>1/1/2012</td>\n",
       "      <td>2012</td>\n",
       "      <td>1</td>\n",
       "      <td>1</td>\n",
       "      <td>Sunday</td>\n",
       "      <td>23</td>\n",
       "      <td>Rain</td>\n",
       "      <td>Wet</td>\n",
       "      <td>2</td>\n",
       "      <td>1</td>\n",
       "    </tr>\n",
       "    <tr>\n",
       "      <th>5</th>\n",
       "      <td>ALBANY</td>\n",
       "      <td>ALBANY</td>\n",
       "      <td>1/1/2013</td>\n",
       "      <td>2013</td>\n",
       "      <td>1</td>\n",
       "      <td>1</td>\n",
       "      <td>Tuesday</td>\n",
       "      <td>2</td>\n",
       "      <td>Clear</td>\n",
       "      <td>Wet</td>\n",
       "      <td>2</td>\n",
       "      <td>1</td>\n",
       "    </tr>\n",
       "    <tr>\n",
       "      <th>6</th>\n",
       "      <td>ALBANY</td>\n",
       "      <td>ALBANY</td>\n",
       "      <td>1/1/2013</td>\n",
       "      <td>2013</td>\n",
       "      <td>1</td>\n",
       "      <td>1</td>\n",
       "      <td>Tuesday</td>\n",
       "      <td>4</td>\n",
       "      <td>Snow</td>\n",
       "      <td>Wet</td>\n",
       "      <td>2</td>\n",
       "      <td>1</td>\n",
       "    </tr>\n",
       "    <tr>\n",
       "      <th>7</th>\n",
       "      <td>ALBANY</td>\n",
       "      <td>ALBANY</td>\n",
       "      <td>1/1/2013</td>\n",
       "      <td>2013</td>\n",
       "      <td>1</td>\n",
       "      <td>1</td>\n",
       "      <td>Tuesday</td>\n",
       "      <td>9</td>\n",
       "      <td>Cloudy</td>\n",
       "      <td>Snow/Ice</td>\n",
       "      <td>2</td>\n",
       "      <td>1</td>\n",
       "    </tr>\n",
       "    <tr>\n",
       "      <th>8</th>\n",
       "      <td>ALBANY</td>\n",
       "      <td>ALBANY</td>\n",
       "      <td>1/1/2013</td>\n",
       "      <td>2013</td>\n",
       "      <td>1</td>\n",
       "      <td>1</td>\n",
       "      <td>Tuesday</td>\n",
       "      <td>10</td>\n",
       "      <td>Cloudy</td>\n",
       "      <td>Dry</td>\n",
       "      <td>2</td>\n",
       "      <td>1</td>\n",
       "    </tr>\n",
       "    <tr>\n",
       "      <th>9</th>\n",
       "      <td>ALBANY</td>\n",
       "      <td>ALBANY</td>\n",
       "      <td>1/1/2013</td>\n",
       "      <td>2013</td>\n",
       "      <td>1</td>\n",
       "      <td>1</td>\n",
       "      <td>Tuesday</td>\n",
       "      <td>12</td>\n",
       "      <td>Clear</td>\n",
       "      <td>Wet</td>\n",
       "      <td>2</td>\n",
       "      <td>1</td>\n",
       "    </tr>\n",
       "  </tbody>\n",
       "</table>\n",
       "</div>"
      ],
      "text/plain": [
       "  County.Name Municipality      Date  Year  Month  Day Day.of.Week  Hour  \\\n",
       "0      ALBANY       ALBANY  1/1/2012  2012      1    1      Sunday     0   \n",
       "1      ALBANY       ALBANY  1/1/2012  2012      1    1      Sunday     1   \n",
       "2      ALBANY       ALBANY  1/1/2012  2012      1    1      Sunday    15   \n",
       "3      ALBANY       ALBANY  1/1/2012  2012      1    1      Sunday    16   \n",
       "4      ALBANY       ALBANY  1/1/2012  2012      1    1      Sunday    23   \n",
       "5      ALBANY       ALBANY  1/1/2013  2013      1    1     Tuesday     2   \n",
       "6      ALBANY       ALBANY  1/1/2013  2013      1    1     Tuesday     4   \n",
       "7      ALBANY       ALBANY  1/1/2013  2013      1    1     Tuesday     9   \n",
       "8      ALBANY       ALBANY  1/1/2013  2013      1    1     Tuesday    10   \n",
       "9      ALBANY       ALBANY  1/1/2013  2013      1    1     Tuesday    12   \n",
       "\n",
       "  Weather.Conditions Road.Surface.Conditions  Number.of.Vehicles.Involved  \\\n",
       "0              Clear                     Dry                            3   \n",
       "1             Cloudy                     Wet                            2   \n",
       "2              Clear                     Dry                            2   \n",
       "3             Cloudy                     Dry                            2   \n",
       "4               Rain                     Wet                            2   \n",
       "5              Clear                     Wet                            2   \n",
       "6               Snow                     Wet                            2   \n",
       "7             Cloudy                Snow/Ice                            2   \n",
       "8             Cloudy                     Dry                            2   \n",
       "9              Clear                     Wet                            2   \n",
       "\n",
       "   number.of.accidents  \n",
       "0                    1  \n",
       "1                    1  \n",
       "2                    1  \n",
       "3                    1  \n",
       "4                    1  \n",
       "5                    1  \n",
       "6                    1  \n",
       "7                    1  \n",
       "8                    1  \n",
       "9                    1  "
      ]
     },
     "execution_count": 21,
     "metadata": {},
     "output_type": "execute_result"
    }
   ],
   "source": [
    "p_crash = pd.DataFrame(p_crash)\n",
    "p_crash.reset_index(inplace = True)\n",
    "p_crash.head(10)"
   ]
  },
  {
   "cell_type": "markdown",
   "metadata": {},
   "source": [
    "Merge dataset so that we have a final table with crash attributes and traffic volume for that county at the time of the accident"
   ]
  },
  {
   "cell_type": "code",
   "execution_count": 22,
   "metadata": {
    "collapsed": false
   },
   "outputs": [
    {
     "data": {
      "text/plain": [
       "Index(['County.Name', 'Municipality', 'Date', 'Year', 'Month', 'Day',\n",
       "       'Day.of.Week', 'Hour', 'Weather.Conditions', 'Road.Surface.Conditions',\n",
       "       'Number.of.Vehicles.Involved', 'number.of.accidents', 'Region',\n",
       "       'County', 'YEAR', 'MONTH', 'DAY', 'iHour', 'Volume', 'CountyTrim'],\n",
       "      dtype='object')"
      ]
     },
     "execution_count": 22,
     "metadata": {},
     "output_type": "execute_result"
    }
   ],
   "source": [
    "merge = pd.merge(p_crash,p_data, how = 'left',left_on = ['County.Name','Year','Month','Day','Hour'], right_on = ['CountyTrim','YEAR','MONTH','DAY','iHour'])\n",
    "merge.columns"
   ]
  },
  {
   "cell_type": "code",
   "execution_count": 23,
   "metadata": {
    "collapsed": false
   },
   "outputs": [],
   "source": [
    "#merge.to_csv('C:\\\\Users\\\\Travis Park\\\\Google Drive\\\\Spring 2017\\\\Big Data\\\\Project\\\\Big Data Analytics\\\\Merged.csv')"
   ]
  },
  {
   "cell_type": "markdown",
   "metadata": {},
   "source": [
    "Clean the merged dataset"
   ]
  },
  {
   "cell_type": "code",
   "execution_count": 24,
   "metadata": {
    "collapsed": false
   },
   "outputs": [],
   "source": [
    "clean = merge[(merge['Region'] > 0) & (merge['Volume'] > 0)]\n",
    "clean.reset_index(inplace = True)\n",
    "clean = clean[['Region','County.Name', 'Municipality', 'Date', 'Year', 'Month', 'Day',\n",
    "       'Day.of.Week', 'Hour', 'Weather.Conditions', 'Road.Surface.Conditions',\n",
    "       'Number.of.Vehicles.Involved', 'number.of.accidents','Volume']]"
   ]
  },
  {
   "cell_type": "code",
   "execution_count": 25,
   "metadata": {
    "collapsed": false,
    "scrolled": true
   },
   "outputs": [
    {
     "data": {
      "text/html": [
       "<div>\n",
       "<table border=\"1\" class=\"dataframe\">\n",
       "  <thead>\n",
       "    <tr style=\"text-align: right;\">\n",
       "      <th></th>\n",
       "      <th>Region</th>\n",
       "      <th>County.Name</th>\n",
       "      <th>Municipality</th>\n",
       "      <th>Date</th>\n",
       "      <th>Year</th>\n",
       "      <th>Month</th>\n",
       "      <th>Day</th>\n",
       "      <th>Day.of.Week</th>\n",
       "      <th>Hour</th>\n",
       "      <th>Weather.Conditions</th>\n",
       "      <th>Road.Surface.Conditions</th>\n",
       "      <th>Number.of.Vehicles.Involved</th>\n",
       "      <th>number.of.accidents</th>\n",
       "      <th>Volume</th>\n",
       "    </tr>\n",
       "  </thead>\n",
       "  <tbody>\n",
       "    <tr>\n",
       "      <th>0</th>\n",
       "      <td>1.0</td>\n",
       "      <td>ALBANY</td>\n",
       "      <td>ALBANY</td>\n",
       "      <td>1/1/2014</td>\n",
       "      <td>2014</td>\n",
       "      <td>1</td>\n",
       "      <td>1</td>\n",
       "      <td>Wednesday</td>\n",
       "      <td>2</td>\n",
       "      <td>Cloudy</td>\n",
       "      <td>Wet</td>\n",
       "      <td>2</td>\n",
       "      <td>1</td>\n",
       "      <td>102.5</td>\n",
       "    </tr>\n",
       "    <tr>\n",
       "      <th>1</th>\n",
       "      <td>1.0</td>\n",
       "      <td>ALBANY</td>\n",
       "      <td>ALBANY</td>\n",
       "      <td>1/1/2014</td>\n",
       "      <td>2014</td>\n",
       "      <td>1</td>\n",
       "      <td>1</td>\n",
       "      <td>Wednesday</td>\n",
       "      <td>7</td>\n",
       "      <td>Cloudy</td>\n",
       "      <td>Wet</td>\n",
       "      <td>1</td>\n",
       "      <td>1</td>\n",
       "      <td>43.0</td>\n",
       "    </tr>\n",
       "    <tr>\n",
       "      <th>2</th>\n",
       "      <td>1.0</td>\n",
       "      <td>ALBANY</td>\n",
       "      <td>ALBANY</td>\n",
       "      <td>1/1/2014</td>\n",
       "      <td>2014</td>\n",
       "      <td>1</td>\n",
       "      <td>1</td>\n",
       "      <td>Wednesday</td>\n",
       "      <td>10</td>\n",
       "      <td>Clear</td>\n",
       "      <td>Dry</td>\n",
       "      <td>2</td>\n",
       "      <td>1</td>\n",
       "      <td>203.0</td>\n",
       "    </tr>\n",
       "    <tr>\n",
       "      <th>3</th>\n",
       "      <td>1.0</td>\n",
       "      <td>ALBANY</td>\n",
       "      <td>ALBANY</td>\n",
       "      <td>1/1/2014</td>\n",
       "      <td>2014</td>\n",
       "      <td>1</td>\n",
       "      <td>1</td>\n",
       "      <td>Wednesday</td>\n",
       "      <td>10</td>\n",
       "      <td>Cloudy</td>\n",
       "      <td>Wet</td>\n",
       "      <td>2</td>\n",
       "      <td>1</td>\n",
       "      <td>203.0</td>\n",
       "    </tr>\n",
       "    <tr>\n",
       "      <th>4</th>\n",
       "      <td>1.0</td>\n",
       "      <td>ALBANY</td>\n",
       "      <td>ALBANY</td>\n",
       "      <td>1/1/2014</td>\n",
       "      <td>2014</td>\n",
       "      <td>1</td>\n",
       "      <td>1</td>\n",
       "      <td>Wednesday</td>\n",
       "      <td>12</td>\n",
       "      <td>Clear</td>\n",
       "      <td>Dry</td>\n",
       "      <td>2</td>\n",
       "      <td>1</td>\n",
       "      <td>536.5</td>\n",
       "    </tr>\n",
       "  </tbody>\n",
       "</table>\n",
       "</div>"
      ],
      "text/plain": [
       "   Region County.Name Municipality      Date  Year  Month  Day Day.of.Week  \\\n",
       "0     1.0      ALBANY       ALBANY  1/1/2014  2014      1    1   Wednesday   \n",
       "1     1.0      ALBANY       ALBANY  1/1/2014  2014      1    1   Wednesday   \n",
       "2     1.0      ALBANY       ALBANY  1/1/2014  2014      1    1   Wednesday   \n",
       "3     1.0      ALBANY       ALBANY  1/1/2014  2014      1    1   Wednesday   \n",
       "4     1.0      ALBANY       ALBANY  1/1/2014  2014      1    1   Wednesday   \n",
       "\n",
       "   Hour Weather.Conditions Road.Surface.Conditions  \\\n",
       "0     2             Cloudy                     Wet   \n",
       "1     7             Cloudy                     Wet   \n",
       "2    10              Clear                     Dry   \n",
       "3    10             Cloudy                     Wet   \n",
       "4    12              Clear                     Dry   \n",
       "\n",
       "   Number.of.Vehicles.Involved  number.of.accidents  Volume  \n",
       "0                            2                    1   102.5  \n",
       "1                            1                    1    43.0  \n",
       "2                            2                    1   203.0  \n",
       "3                            2                    1   203.0  \n",
       "4                            2                    1   536.5  "
      ]
     },
     "execution_count": 25,
     "metadata": {},
     "output_type": "execute_result"
    }
   ],
   "source": [
    "clean.head()"
   ]
  },
  {
   "cell_type": "markdown",
   "metadata": {},
   "source": [
    "Calculate accident density (accidents/volume) and vehicle density (vehicles involved/volume)"
   ]
  },
  {
   "cell_type": "code",
   "execution_count": 26,
   "metadata": {
    "collapsed": false,
    "scrolled": true
   },
   "outputs": [
    {
     "data": {
      "text/html": [
       "<div>\n",
       "<table border=\"1\" class=\"dataframe\">\n",
       "  <thead>\n",
       "    <tr style=\"text-align: right;\">\n",
       "      <th></th>\n",
       "      <th>Region</th>\n",
       "      <th>County.Name</th>\n",
       "      <th>Municipality</th>\n",
       "      <th>Date</th>\n",
       "      <th>Year</th>\n",
       "      <th>Month</th>\n",
       "      <th>Day</th>\n",
       "      <th>Day.of.Week</th>\n",
       "      <th>Hour</th>\n",
       "      <th>Weather.Conditions</th>\n",
       "      <th>Road.Surface.Conditions</th>\n",
       "      <th>Number.of.Vehicles.Involved</th>\n",
       "      <th>number.of.accidents</th>\n",
       "      <th>Volume</th>\n",
       "      <th>VehDensity</th>\n",
       "      <th>AccDensity</th>\n",
       "    </tr>\n",
       "  </thead>\n",
       "  <tbody>\n",
       "    <tr>\n",
       "      <th>0</th>\n",
       "      <td>1.0</td>\n",
       "      <td>ALBANY</td>\n",
       "      <td>ALBANY</td>\n",
       "      <td>1/1/2014</td>\n",
       "      <td>2014</td>\n",
       "      <td>1</td>\n",
       "      <td>1</td>\n",
       "      <td>Wednesday</td>\n",
       "      <td>2</td>\n",
       "      <td>Cloudy</td>\n",
       "      <td>Wet</td>\n",
       "      <td>2</td>\n",
       "      <td>1</td>\n",
       "      <td>102.5</td>\n",
       "      <td>0.019512</td>\n",
       "      <td>0.009756</td>\n",
       "    </tr>\n",
       "    <tr>\n",
       "      <th>1</th>\n",
       "      <td>1.0</td>\n",
       "      <td>ALBANY</td>\n",
       "      <td>ALBANY</td>\n",
       "      <td>1/1/2014</td>\n",
       "      <td>2014</td>\n",
       "      <td>1</td>\n",
       "      <td>1</td>\n",
       "      <td>Wednesday</td>\n",
       "      <td>7</td>\n",
       "      <td>Cloudy</td>\n",
       "      <td>Wet</td>\n",
       "      <td>1</td>\n",
       "      <td>1</td>\n",
       "      <td>43.0</td>\n",
       "      <td>0.023256</td>\n",
       "      <td>0.023256</td>\n",
       "    </tr>\n",
       "    <tr>\n",
       "      <th>2</th>\n",
       "      <td>1.0</td>\n",
       "      <td>ALBANY</td>\n",
       "      <td>ALBANY</td>\n",
       "      <td>1/1/2014</td>\n",
       "      <td>2014</td>\n",
       "      <td>1</td>\n",
       "      <td>1</td>\n",
       "      <td>Wednesday</td>\n",
       "      <td>10</td>\n",
       "      <td>Clear</td>\n",
       "      <td>Dry</td>\n",
       "      <td>2</td>\n",
       "      <td>1</td>\n",
       "      <td>203.0</td>\n",
       "      <td>0.009852</td>\n",
       "      <td>0.004926</td>\n",
       "    </tr>\n",
       "    <tr>\n",
       "      <th>3</th>\n",
       "      <td>1.0</td>\n",
       "      <td>ALBANY</td>\n",
       "      <td>ALBANY</td>\n",
       "      <td>1/1/2014</td>\n",
       "      <td>2014</td>\n",
       "      <td>1</td>\n",
       "      <td>1</td>\n",
       "      <td>Wednesday</td>\n",
       "      <td>10</td>\n",
       "      <td>Cloudy</td>\n",
       "      <td>Wet</td>\n",
       "      <td>2</td>\n",
       "      <td>1</td>\n",
       "      <td>203.0</td>\n",
       "      <td>0.009852</td>\n",
       "      <td>0.004926</td>\n",
       "    </tr>\n",
       "    <tr>\n",
       "      <th>4</th>\n",
       "      <td>1.0</td>\n",
       "      <td>ALBANY</td>\n",
       "      <td>ALBANY</td>\n",
       "      <td>1/1/2014</td>\n",
       "      <td>2014</td>\n",
       "      <td>1</td>\n",
       "      <td>1</td>\n",
       "      <td>Wednesday</td>\n",
       "      <td>12</td>\n",
       "      <td>Clear</td>\n",
       "      <td>Dry</td>\n",
       "      <td>2</td>\n",
       "      <td>1</td>\n",
       "      <td>536.5</td>\n",
       "      <td>0.003728</td>\n",
       "      <td>0.001864</td>\n",
       "    </tr>\n",
       "  </tbody>\n",
       "</table>\n",
       "</div>"
      ],
      "text/plain": [
       "   Region County.Name Municipality      Date  Year  Month  Day Day.of.Week  \\\n",
       "0     1.0      ALBANY       ALBANY  1/1/2014  2014      1    1   Wednesday   \n",
       "1     1.0      ALBANY       ALBANY  1/1/2014  2014      1    1   Wednesday   \n",
       "2     1.0      ALBANY       ALBANY  1/1/2014  2014      1    1   Wednesday   \n",
       "3     1.0      ALBANY       ALBANY  1/1/2014  2014      1    1   Wednesday   \n",
       "4     1.0      ALBANY       ALBANY  1/1/2014  2014      1    1   Wednesday   \n",
       "\n",
       "   Hour Weather.Conditions Road.Surface.Conditions  \\\n",
       "0     2             Cloudy                     Wet   \n",
       "1     7             Cloudy                     Wet   \n",
       "2    10              Clear                     Dry   \n",
       "3    10             Cloudy                     Wet   \n",
       "4    12              Clear                     Dry   \n",
       "\n",
       "   Number.of.Vehicles.Involved  number.of.accidents  Volume  VehDensity  \\\n",
       "0                            2                    1   102.5    0.019512   \n",
       "1                            1                    1    43.0    0.023256   \n",
       "2                            2                    1   203.0    0.009852   \n",
       "3                            2                    1   203.0    0.009852   \n",
       "4                            2                    1   536.5    0.003728   \n",
       "\n",
       "   AccDensity  \n",
       "0    0.009756  \n",
       "1    0.023256  \n",
       "2    0.004926  \n",
       "3    0.004926  \n",
       "4    0.001864  "
      ]
     },
     "execution_count": 26,
     "metadata": {},
     "output_type": "execute_result"
    }
   ],
   "source": [
    "clean['VehDensity'] = clean['Number.of.Vehicles.Involved']/clean['Volume']\n",
    "clean['AccDensity'] = clean['number.of.accidents']/clean['Volume']\n",
    "clean = clean[(clean['AccDensity'] < 0.5)]\n",
    "clean.head()"
   ]
  },
  {
   "cell_type": "code",
   "execution_count": 27,
   "metadata": {
    "collapsed": false
   },
   "outputs": [],
   "source": [
    "#clean.to_csv('C:\\\\Users\\\\Travis Park\\\\Google Drive\\\\Spring 2017\\\\Big Data\\\\Project\\\\Big Data Analytics\\\\Clean.csv')"
   ]
  },
  {
   "cell_type": "markdown",
   "metadata": {},
   "source": [
    "There are 1195 distinct Municipalities that are measured in the model"
   ]
  },
  {
   "cell_type": "code",
   "execution_count": 28,
   "metadata": {
    "collapsed": false
   },
   "outputs": [
    {
     "data": {
      "text/plain": [
       "1195"
      ]
     },
     "execution_count": 28,
     "metadata": {},
     "output_type": "execute_result"
    }
   ],
   "source": [
    "len(set(clean['Municipality']))"
   ]
  },
  {
   "cell_type": "markdown",
   "metadata": {},
   "source": [
    "**Machine Learning model building and evaluation**\n",
    "\n",
    "Methodology:\n",
    "  Because traffic volume is such an important aspect of accident density, we will employ three steps in predicting the number of accidents.\n",
    "  \n",
    "  Step 1:  Use machine learning to predict the volume of traffic for the given parameters\n",
    "  \n",
    "  Step 2:  Add that value to the training data and then use the new dataset to predict accident density\n",
    "  \n",
    "  Step 3:  Multiply accident density by volume to return the number of accidents"
   ]
  },
  {
   "cell_type": "code",
   "execution_count": 29,
   "metadata": {
    "collapsed": true
   },
   "outputs": [],
   "source": [
    "from sklearn.model_selection import train_test_split\n",
    "from sklearn.metrics import *\n",
    "from sklearn import preprocessing\n",
    "from sklearn.preprocessing import minmax_scale\n",
    "from sklearn.ensemble import RandomForestRegressor\n",
    "from sklearn.ensemble import ExtraTreesRegressor\n",
    "from sklearn.neighbors import KNeighborsRegressor\n",
    "from sklearn.multioutput import MultiOutputRegressor\n",
    "from sklearn.ensemble  import ExtraTreesClassifier\n",
    "from sklearn.metrics import *\n",
    "from sklearn.preprocessing import minmax_scale\n",
    "from sklearn.svm import SVC\n",
    "import matplotlib.pyplot as plt\n",
    "import seaborn as sns\n",
    "import warnings\n",
    "\n",
    "\n",
    "warnings.filterwarnings(\"ignore\")\n",
    "sns.set(style = 'darkgrid')\n",
    "% matplotlib inline"
   ]
  },
  {
   "cell_type": "markdown",
   "metadata": {},
   "source": [
    "Convert categorical variables to integers for models to understand"
   ]
  },
  {
   "cell_type": "code",
   "execution_count": 30,
   "metadata": {
    "collapsed": false
   },
   "outputs": [
    {
     "data": {
      "text/html": [
       "<div>\n",
       "<table border=\"1\" class=\"dataframe\">\n",
       "  <thead>\n",
       "    <tr style=\"text-align: right;\">\n",
       "      <th></th>\n",
       "      <th>County.Name</th>\n",
       "      <th>Month</th>\n",
       "      <th>Day.of.Week</th>\n",
       "      <th>Hour</th>\n",
       "      <th>Weather.Conditions</th>\n",
       "      <th>Road.Surface.Conditions</th>\n",
       "    </tr>\n",
       "  </thead>\n",
       "  <tbody>\n",
       "    <tr>\n",
       "      <th>0</th>\n",
       "      <td>0</td>\n",
       "      <td>1</td>\n",
       "      <td>6</td>\n",
       "      <td>2</td>\n",
       "      <td>1</td>\n",
       "      <td>8</td>\n",
       "    </tr>\n",
       "    <tr>\n",
       "      <th>1</th>\n",
       "      <td>0</td>\n",
       "      <td>1</td>\n",
       "      <td>6</td>\n",
       "      <td>7</td>\n",
       "      <td>1</td>\n",
       "      <td>8</td>\n",
       "    </tr>\n",
       "    <tr>\n",
       "      <th>2</th>\n",
       "      <td>0</td>\n",
       "      <td>1</td>\n",
       "      <td>6</td>\n",
       "      <td>10</td>\n",
       "      <td>0</td>\n",
       "      <td>0</td>\n",
       "    </tr>\n",
       "    <tr>\n",
       "      <th>3</th>\n",
       "      <td>0</td>\n",
       "      <td>1</td>\n",
       "      <td>6</td>\n",
       "      <td>10</td>\n",
       "      <td>1</td>\n",
       "      <td>8</td>\n",
       "    </tr>\n",
       "    <tr>\n",
       "      <th>4</th>\n",
       "      <td>0</td>\n",
       "      <td>1</td>\n",
       "      <td>6</td>\n",
       "      <td>12</td>\n",
       "      <td>0</td>\n",
       "      <td>0</td>\n",
       "    </tr>\n",
       "  </tbody>\n",
       "</table>\n",
       "</div>"
      ],
      "text/plain": [
       "   County.Name  Month  Day.of.Week  Hour  Weather.Conditions  \\\n",
       "0            0      1            6     2                   1   \n",
       "1            0      1            6     7                   1   \n",
       "2            0      1            6    10                   0   \n",
       "3            0      1            6    10                   1   \n",
       "4            0      1            6    12                   0   \n",
       "\n",
       "   Road.Surface.Conditions  \n",
       "0                        8  \n",
       "1                        8  \n",
       "2                        0  \n",
       "3                        8  \n",
       "4                        0  "
      ]
     },
     "execution_count": 30,
     "metadata": {},
     "output_type": "execute_result"
    }
   ],
   "source": [
    "X = clean[['County.Name','Month','Day.of.Week','Hour','Weather.Conditions','Road.Surface.Conditions']]\n",
    "y = clean[['Volume']]\n",
    "\n",
    "le = preprocessing.LabelEncoder()\n",
    "le.fit(list(set(X['County.Name'])))\n",
    "X['County.Name'] = le.transform(X['County.Name'])\n",
    "\n",
    "le2 = preprocessing.LabelEncoder()\n",
    "le2.fit(list(set(X['Day.of.Week'])))\n",
    "X['Day.of.Week'] = le2.transform(X['Day.of.Week'])\n",
    "\n",
    "le3 = preprocessing.LabelEncoder()\n",
    "le3.fit(list(set(X['Weather.Conditions'])))\n",
    "X['Weather.Conditions'] = le3.transform(X['Weather.Conditions'])\n",
    "\n",
    "le4 = preprocessing.LabelEncoder()\n",
    "le4.fit(list(set(X['Road.Surface.Conditions'])))\n",
    "X['Road.Surface.Conditions'] = le4.transform(X['Road.Surface.Conditions'])\n",
    "\n",
    "X.head()"
   ]
  },
  {
   "cell_type": "code",
   "execution_count": 31,
   "metadata": {
    "collapsed": false
   },
   "outputs": [],
   "source": [
    "#X.to_csv('test.csv')\n",
    "#y.to_csv('testy.csv')"
   ]
  },
  {
   "cell_type": "code",
   "execution_count": 32,
   "metadata": {
    "collapsed": true
   },
   "outputs": [],
   "source": [
    "m_eval = pd.DataFrame(columns = ['Model','Train Score','Test Score'])\n",
    "def addeval(method, train, test):\n",
    "    global m_eval\n",
    "    d = pd.DataFrame([[method, train, test]],columns = ['Model','Train Score','Test Score'])\n",
    "    m_eval = m_eval.append(d)"
   ]
  },
  {
   "cell_type": "markdown",
   "metadata": {},
   "source": [
    "Split data into training and testing set"
   ]
  },
  {
   "cell_type": "code",
   "execution_count": 33,
   "metadata": {
    "collapsed": false
   },
   "outputs": [],
   "source": [
    "X_train, X_test, y_train, y_test = train_test_split(X, y, test_size=0.33, random_state=42)"
   ]
  },
  {
   "cell_type": "markdown",
   "metadata": {},
   "source": [
    "Because we are trying to predict a continuous number, we will employ regressors\n",
    "\n",
    "The score indicates the r-squared score of the true values and predicted values"
   ]
  },
  {
   "cell_type": "code",
   "execution_count": 34,
   "metadata": {
    "collapsed": false
   },
   "outputs": [
    {
     "data": {
      "text/plain": [
       "(0.93215369322973629, 0.9045113220708092, 0.027642371158927093)"
      ]
     },
     "execution_count": 34,
     "metadata": {},
     "output_type": "execute_result"
    }
   ],
   "source": [
    "etr = ExtraTreesRegressor(n_estimators=50, max_depth = 20, random_state = 0)\n",
    "etr.fit(X_train, y_train)\n",
    "y_etr = etr.predict(X_test)\n",
    "etr.score(X_train,y_train), etr.score(X_test, y_test),etr.score(X_train,y_train)-etr.score(X_test,y_test)"
   ]
  },
  {
   "cell_type": "code",
   "execution_count": 35,
   "metadata": {
    "collapsed": true
   },
   "outputs": [],
   "source": [
    "addeval('Extra Trees',etr.score(X_train,y_train), etr.score(X_test, y_test))"
   ]
  },
  {
   "cell_type": "code",
   "execution_count": 36,
   "metadata": {
    "collapsed": false
   },
   "outputs": [
    {
     "data": {
      "text/plain": [
       "(0.93623204989453235, 0.90268764835704485, 0.0335444015374875)"
      ]
     },
     "execution_count": 36,
     "metadata": {},
     "output_type": "execute_result"
    }
   ],
   "source": [
    "rfg = RandomForestRegressor(max_depth=20,n_estimators=25,\n",
    "                                                 random_state=0)\n",
    "rfg.fit(X_train, y_train)\n",
    "y_rfg = rfg.predict(X_test)\n",
    "rfg.score(X_train,y_train), rfg.score(X_test, y_test),rfg.score(X_train,y_train)-rfg.score(X_test,y_test)"
   ]
  },
  {
   "cell_type": "code",
   "execution_count": 37,
   "metadata": {
    "collapsed": false
   },
   "outputs": [],
   "source": [
    "addeval('Rand Forest',rfg.score(X_train,y_train), rfg.score(X_test, y_test))"
   ]
  },
  {
   "cell_type": "code",
   "execution_count": 38,
   "metadata": {
    "collapsed": false
   },
   "outputs": [
    {
     "data": {
      "text/plain": [
       "(0.84419761954716321, 0.80643318365509409, 0.037764435892069126)"
      ]
     },
     "execution_count": 38,
     "metadata": {},
     "output_type": "execute_result"
    }
   ],
   "source": [
    "knn = KNeighborsRegressor(n_neighbors=10)\n",
    "knn.fit(X_train, y_train)\n",
    "y_knn = knn.predict(X_test)\n",
    "knn.score(X_train,y_train), knn.score(X_test, y_test),knn.score(X_train,y_train)-knn.score(X_test,y_test)"
   ]
  },
  {
   "cell_type": "code",
   "execution_count": 39,
   "metadata": {
    "collapsed": true
   },
   "outputs": [],
   "source": [
    "addeval('KN Neighbors',knn.score(X_train,y_train), knn.score(X_test, y_test))"
   ]
  },
  {
   "cell_type": "code",
   "execution_count": 40,
   "metadata": {
    "collapsed": false,
    "scrolled": true
   },
   "outputs": [
    {
     "data": {
      "text/html": [
       "<div>\n",
       "<table border=\"1\" class=\"dataframe\">\n",
       "  <thead>\n",
       "    <tr style=\"text-align: right;\">\n",
       "      <th></th>\n",
       "      <th>Model</th>\n",
       "      <th>Train Score</th>\n",
       "      <th>Test Score</th>\n",
       "    </tr>\n",
       "  </thead>\n",
       "  <tbody>\n",
       "    <tr>\n",
       "      <th>0</th>\n",
       "      <td>Extra Trees</td>\n",
       "      <td>0.932154</td>\n",
       "      <td>0.904511</td>\n",
       "    </tr>\n",
       "    <tr>\n",
       "      <th>0</th>\n",
       "      <td>Rand Forest</td>\n",
       "      <td>0.936232</td>\n",
       "      <td>0.902688</td>\n",
       "    </tr>\n",
       "    <tr>\n",
       "      <th>0</th>\n",
       "      <td>KN Neighbors</td>\n",
       "      <td>0.844198</td>\n",
       "      <td>0.806433</td>\n",
       "    </tr>\n",
       "  </tbody>\n",
       "</table>\n",
       "</div>"
      ],
      "text/plain": [
       "          Model  Train Score  Test Score\n",
       "0   Extra Trees     0.932154    0.904511\n",
       "0   Rand Forest     0.936232    0.902688\n",
       "0  KN Neighbors     0.844198    0.806433"
      ]
     },
     "execution_count": 40,
     "metadata": {},
     "output_type": "execute_result"
    }
   ],
   "source": [
    "m_eval"
   ]
  },
  {
   "cell_type": "markdown",
   "metadata": {},
   "source": [
    "The chart below indicates that the Extra Trees Regressor has the best trainging score by a slight margin"
   ]
  },
  {
   "cell_type": "code",
   "execution_count": 41,
   "metadata": {
    "collapsed": false
   },
   "outputs": [
    {
     "data": {
      "image/png": "[encoded data removed]",
      "text/plain": [
       "<matplotlib.figure.Figure at 0x25b8b1004e0>"
      ]
     },
     "metadata": {},
     "output_type": "display_data"
    }
   ],
   "source": [
    "mm_eval = pd.melt(m_eval[['Model','Train Score','Test Score']], \"Model\", var_name=\"Measurement\")\n",
    "\n",
    "flatui = [\"#e74c3c\",\"#34495e\"]\n",
    "\n",
    "p = sns.pointplot(x=\"Model\", y=\"value\", hue=\"Measurement\", data=mm_eval, palette = flatui)\n",
    "labs = list(m_eval['Model'])\n",
    "p.set_xticklabels(labs);\n",
    "\n",
    "pf = p.get_figure()\n",
    "pf.savefig(\"model eval.png\", dpi = 1200)"
   ]
  },
  {
   "cell_type": "code",
   "execution_count": 42,
   "metadata": {
    "collapsed": false
   },
   "outputs": [],
   "source": [
    "g = pd.DataFrame(X_test)\n",
    "g['Volume'] = y_test\n",
    "g['Extra Trees'] = y_etr\n",
    "g['Rand Forest'] = y_rfg\n",
    "g['KN Neighbors'] = y_knn"
   ]
  },
  {
   "cell_type": "markdown",
   "metadata": {},
   "source": [
    "The violinplots compare the distribution of predictions for the models with the actual volume"
   ]
  },
  {
   "cell_type": "code",
   "execution_count": 43,
   "metadata": {
    "collapsed": false
   },
   "outputs": [
    {
     "data": {
      "image/png": "[encoded data removed]",
      "text/plain": [
       "<matplotlib.figure.Figure at 0x25b8b0ddcc0>"
      ]
     },
     "metadata": {},
     "output_type": "display_data"
    }
   ],
   "source": [
    "p = sns.violinplot(data=g[['Volume','Rand Forest','Extra Trees','KN Neighbors']] ,inner = 'quartile', palette = 'Set2');\n",
    "pf = p.get_figure()\n",
    "#pf.savefig(\"model dist.png\", dpi = 1200)"
   ]
  },
  {
   "cell_type": "code",
   "execution_count": 44,
   "metadata": {
    "collapsed": false,
    "scrolled": false
   },
   "outputs": [
    {
     "data": {
      "image/png": "[encoded data removed]",
      "text/plain": [
       "<matplotlib.figure.Figure at 0x25b8be6d828>"
      ]
     },
     "metadata": {},
     "output_type": "display_data"
    }
   ],
   "source": [
    "plt.scatter(y_test,y_etr,alpha = 0.4,label=\"Data\")\n",
    "#plt.xlim([-6, 6])\n",
    "#plt.ylim([-6, 6])\n",
    "plt.xlabel(\"True\")\n",
    "plt.ylabel(\"Pred\")\n",
    "\n",
    "plt.legend()\n",
    "plt.show()"
   ]
  },
  {
   "cell_type": "code",
   "execution_count": 45,
   "metadata": {
    "collapsed": false
   },
   "outputs": [
    {
     "data": {
      "image/png": "[encoded data removed]",
      "text/plain": [
       "<matplotlib.figure.Figure at 0x25b8ebe1358>"
      ]
     },
     "metadata": {},
     "output_type": "display_data"
    }
   ],
   "source": [
    "p = sns.kdeplot(g['Volume'], g['Extra Trees'],cmap = 'Spectral_r',\n",
    "            shade=True, shade_lowest=False,size = 10, aspect = 'equal', n_levels = 50);\n",
    "\n",
    "pf = p.get_figure()\n",
    "#pf.savefig(\"density.png\", dpi = 200)"
   ]
  },
  {
   "cell_type": "code",
   "execution_count": 46,
   "metadata": {
    "collapsed": false
   },
   "outputs": [],
   "source": [
    "etrees = etr.predict(X)\n",
    "X['etrees'] = etrees"
   ]
  },
  {
   "cell_type": "markdown",
   "metadata": {},
   "source": [
    "**Step 2**\n",
    "\n",
    "The distribution of accident density is very skewed, this will affected a model's quality\n",
    "\n",
    "To solve this we multiply each value by the natural log, this will stretch the data out and make it easier to predict\n",
    "\n",
    "You can see the difference in the two violinplots below\n",
    "\n",
    "We will need to recompress the predicted output for the values to be meaningful"
   ]
  },
  {
   "cell_type": "code",
   "execution_count": 47,
   "metadata": {
    "collapsed": false
   },
   "outputs": [
    {
     "data": {
      "text/plain": [
       "<matplotlib.axes._subplots.AxesSubplot at 0x25b8ebe4c50>"
      ]
     },
     "execution_count": 47,
     "metadata": {},
     "output_type": "execute_result"
    },
    {
     "data": {
      "image/png": "[encoded data removed]",
      "text/plain": [
       "<matplotlib.figure.Figure at 0x25b8ebe4978>"
      ]
     },
     "metadata": {},
     "output_type": "display_data"
    }
   ],
   "source": [
    "sns.violinplot(clean['AccDensity'], inner = 'quartile')"
   ]
  },
  {
   "cell_type": "code",
   "execution_count": 48,
   "metadata": {
    "collapsed": false
   },
   "outputs": [],
   "source": [
    "y = np.log(clean['AccDensity'])"
   ]
  },
  {
   "cell_type": "code",
   "execution_count": 49,
   "metadata": {
    "collapsed": false,
    "scrolled": false
   },
   "outputs": [
    {
     "data": {
      "text/plain": [
       "<matplotlib.axes._subplots.AxesSubplot at 0x25b8ebd6668>"
      ]
     },
     "execution_count": 49,
     "metadata": {},
     "output_type": "execute_result"
    },
    {
     "data": {
      "image/png": "[encoded data removed]",
      "text/plain": [
       "<matplotlib.figure.Figure at 0x25b8ebfe6a0>"
      ]
     },
     "metadata": {},
     "output_type": "display_data"
    }
   ],
   "source": [
    "sns.violinplot(y, inner = 'quartile')"
   ]
  },
  {
   "cell_type": "code",
   "execution_count": 50,
   "metadata": {
    "collapsed": true
   },
   "outputs": [],
   "source": [
    "X_train, X_test, y_train, y_test = train_test_split(X, y, test_size=0.33, random_state=42)"
   ]
  },
  {
   "cell_type": "markdown",
   "metadata": {},
   "source": [
    "Initialize a new Extra Trees Regressor to predict the unskewed accident data"
   ]
  },
  {
   "cell_type": "code",
   "execution_count": 51,
   "metadata": {
    "collapsed": false,
    "scrolled": true
   },
   "outputs": [
    {
     "data": {
      "text/plain": [
       "(0.90841039586318906, 0.87954825622366861, 0.028862139639520445)"
      ]
     },
     "execution_count": 51,
     "metadata": {},
     "output_type": "execute_result"
    }
   ],
   "source": [
    "etr2 = ExtraTreesRegressor(n_estimators=50, max_depth = 10, random_state = 0)\n",
    "etr2.fit(X_train, y_train)\n",
    "y_etr = etr2.predict(X_test)\n",
    "etr2.score(X_train,y_train), etr2.score(X_test, y_test),etr2.score(X_train,y_train)-etr2.score(X_test,y_test)"
   ]
  },
  {
   "cell_type": "code",
   "execution_count": 52,
   "metadata": {
    "collapsed": false
   },
   "outputs": [
    {
     "data": {
      "text/html": [
       "<div>\n",
       "<table border=\"1\" class=\"dataframe\">\n",
       "  <thead>\n",
       "    <tr style=\"text-align: right;\">\n",
       "      <th></th>\n",
       "      <th>AccDensity</th>\n",
       "      <th>Pred</th>\n",
       "    </tr>\n",
       "  </thead>\n",
       "  <tbody>\n",
       "    <tr>\n",
       "      <th>147112</th>\n",
       "      <td>-5.718671</td>\n",
       "      <td>-5.560944</td>\n",
       "    </tr>\n",
       "    <tr>\n",
       "      <th>409463</th>\n",
       "      <td>-6.897503</td>\n",
       "      <td>-7.256524</td>\n",
       "    </tr>\n",
       "    <tr>\n",
       "      <th>102693</th>\n",
       "      <td>-6.508769</td>\n",
       "      <td>-6.418336</td>\n",
       "    </tr>\n",
       "    <tr>\n",
       "      <th>146210</th>\n",
       "      <td>-5.342334</td>\n",
       "      <td>-5.323011</td>\n",
       "    </tr>\n",
       "    <tr>\n",
       "      <th>191182</th>\n",
       "      <td>-5.987289</td>\n",
       "      <td>-6.730671</td>\n",
       "    </tr>\n",
       "  </tbody>\n",
       "</table>\n",
       "</div>"
      ],
      "text/plain": [
       "        AccDensity      Pred\n",
       "147112   -5.718671 -5.560944\n",
       "409463   -6.897503 -7.256524\n",
       "102693   -6.508769 -6.418336\n",
       "146210   -5.342334 -5.323011\n",
       "191182   -5.987289 -6.730671"
      ]
     },
     "execution_count": 52,
     "metadata": {},
     "output_type": "execute_result"
    }
   ],
   "source": [
    "test = pd.DataFrame(y_test)\n",
    "test['Pred'] = y_etr\n",
    "test.head()"
   ]
  },
  {
   "cell_type": "markdown",
   "metadata": {},
   "source": [
    "The jointplot below demonstrates the correlation between the true values and predicted values\n",
    "\n",
    "A perfect model would have a slope of with a pearsonr = 1, ours is reasonably close with a score of .8795"
   ]
  },
  {
   "cell_type": "code",
   "execution_count": 53,
   "metadata": {
    "collapsed": false,
    "scrolled": false
   },
   "outputs": [
    {
     "data": {
      "text/plain": [
       "<seaborn.axisgrid.JointGrid at 0x25b8be25438>"
      ]
     },
     "execution_count": 53,
     "metadata": {},
     "output_type": "execute_result"
    },
    {
     "data": {
      "image/png": "[encoded data removed]",
      "text/plain": [
       "<matplotlib.figure.Figure at 0x25b8be25ef0>"
      ]
     },
     "metadata": {},
     "output_type": "display_data"
    }
   ],
   "source": [
    "#plt.scatter(y_test,y_etr,alpha = 0.4,label=\"Data\")\n",
    "sns.jointplot(x = 'AccDensity',y = 'Pred', data = test, kind=\"reg\", size=7)"
   ]
  },
  {
   "cell_type": "code",
   "execution_count": 54,
   "metadata": {
    "collapsed": false
   },
   "outputs": [
    {
     "data": {
      "image/png": "[encoded data removed]",
      "text/plain": [
       "<matplotlib.figure.Figure at 0x25b9fb0c048>"
      ]
     },
     "metadata": {},
     "output_type": "display_data"
    }
   ],
   "source": [
    "p = sns.kdeplot(y_test, y_etr,cmap = 'Spectral_r',\n",
    "            shade=True, shade_lowest=False,size = 10, aspect = 'equal', n_levels = 50);\n",
    "\n",
    "pf = p.get_figure()\n",
    "#pf.savefig(\"density.png\", dpi = 200)"
   ]
  },
  {
   "cell_type": "code",
   "execution_count": 55,
   "metadata": {
    "collapsed": true
   },
   "outputs": [],
   "source": [
    "etrees2 = etr2.predict(X)"
   ]
  },
  {
   "cell_type": "code",
   "execution_count": 56,
   "metadata": {
    "collapsed": false,
    "scrolled": true
   },
   "outputs": [
    {
     "data": {
      "text/html": [
       "<div>\n",
       "<table border=\"1\" class=\"dataframe\">\n",
       "  <thead>\n",
       "    <tr style=\"text-align: right;\">\n",
       "      <th></th>\n",
       "      <th>Region</th>\n",
       "      <th>County.Name</th>\n",
       "      <th>Municipality</th>\n",
       "      <th>Date</th>\n",
       "      <th>Year</th>\n",
       "      <th>Month</th>\n",
       "      <th>Day</th>\n",
       "      <th>Day.of.Week</th>\n",
       "      <th>Hour</th>\n",
       "      <th>Weather.Conditions</th>\n",
       "      <th>Road.Surface.Conditions</th>\n",
       "      <th>Number.of.Vehicles.Involved</th>\n",
       "      <th>number.of.accidents</th>\n",
       "      <th>Volume</th>\n",
       "      <th>VehDensity</th>\n",
       "      <th>AccDensity</th>\n",
       "      <th>p_vol</th>\n",
       "      <th>p_accdensity</th>\n",
       "    </tr>\n",
       "  </thead>\n",
       "  <tbody>\n",
       "    <tr>\n",
       "      <th>0</th>\n",
       "      <td>1.0</td>\n",
       "      <td>ALBANY</td>\n",
       "      <td>ALBANY</td>\n",
       "      <td>1/1/2014</td>\n",
       "      <td>2014</td>\n",
       "      <td>1</td>\n",
       "      <td>1</td>\n",
       "      <td>Wednesday</td>\n",
       "      <td>2</td>\n",
       "      <td>Cloudy</td>\n",
       "      <td>Wet</td>\n",
       "      <td>2</td>\n",
       "      <td>1</td>\n",
       "      <td>102.5</td>\n",
       "      <td>0.019512</td>\n",
       "      <td>0.009756</td>\n",
       "      <td>42.486000</td>\n",
       "      <td>-3.649581</td>\n",
       "    </tr>\n",
       "    <tr>\n",
       "      <th>1</th>\n",
       "      <td>1.0</td>\n",
       "      <td>ALBANY</td>\n",
       "      <td>ALBANY</td>\n",
       "      <td>1/1/2014</td>\n",
       "      <td>2014</td>\n",
       "      <td>1</td>\n",
       "      <td>1</td>\n",
       "      <td>Wednesday</td>\n",
       "      <td>7</td>\n",
       "      <td>Cloudy</td>\n",
       "      <td>Wet</td>\n",
       "      <td>1</td>\n",
       "      <td>1</td>\n",
       "      <td>43.0</td>\n",
       "      <td>0.023256</td>\n",
       "      <td>0.023256</td>\n",
       "      <td>72.019562</td>\n",
       "      <td>-4.168419</td>\n",
       "    </tr>\n",
       "    <tr>\n",
       "      <th>2</th>\n",
       "      <td>1.0</td>\n",
       "      <td>ALBANY</td>\n",
       "      <td>ALBANY</td>\n",
       "      <td>1/1/2014</td>\n",
       "      <td>2014</td>\n",
       "      <td>1</td>\n",
       "      <td>1</td>\n",
       "      <td>Wednesday</td>\n",
       "      <td>10</td>\n",
       "      <td>Clear</td>\n",
       "      <td>Dry</td>\n",
       "      <td>2</td>\n",
       "      <td>1</td>\n",
       "      <td>203.0</td>\n",
       "      <td>0.009852</td>\n",
       "      <td>0.004926</td>\n",
       "      <td>676.923663</td>\n",
       "      <td>-6.400861</td>\n",
       "    </tr>\n",
       "    <tr>\n",
       "      <th>3</th>\n",
       "      <td>1.0</td>\n",
       "      <td>ALBANY</td>\n",
       "      <td>ALBANY</td>\n",
       "      <td>1/1/2014</td>\n",
       "      <td>2014</td>\n",
       "      <td>1</td>\n",
       "      <td>1</td>\n",
       "      <td>Wednesday</td>\n",
       "      <td>10</td>\n",
       "      <td>Cloudy</td>\n",
       "      <td>Wet</td>\n",
       "      <td>2</td>\n",
       "      <td>1</td>\n",
       "      <td>203.0</td>\n",
       "      <td>0.009852</td>\n",
       "      <td>0.004926</td>\n",
       "      <td>241.800667</td>\n",
       "      <td>-5.399975</td>\n",
       "    </tr>\n",
       "    <tr>\n",
       "      <th>4</th>\n",
       "      <td>1.0</td>\n",
       "      <td>ALBANY</td>\n",
       "      <td>ALBANY</td>\n",
       "      <td>1/1/2014</td>\n",
       "      <td>2014</td>\n",
       "      <td>1</td>\n",
       "      <td>1</td>\n",
       "      <td>Wednesday</td>\n",
       "      <td>12</td>\n",
       "      <td>Clear</td>\n",
       "      <td>Dry</td>\n",
       "      <td>2</td>\n",
       "      <td>1</td>\n",
       "      <td>536.5</td>\n",
       "      <td>0.003728</td>\n",
       "      <td>0.001864</td>\n",
       "      <td>729.030769</td>\n",
       "      <td>-6.478513</td>\n",
       "    </tr>\n",
       "  </tbody>\n",
       "</table>\n",
       "</div>"
      ],
      "text/plain": [
       "   Region County.Name Municipality      Date  Year  Month  Day Day.of.Week  \\\n",
       "0     1.0      ALBANY       ALBANY  1/1/2014  2014      1    1   Wednesday   \n",
       "1     1.0      ALBANY       ALBANY  1/1/2014  2014      1    1   Wednesday   \n",
       "2     1.0      ALBANY       ALBANY  1/1/2014  2014      1    1   Wednesday   \n",
       "3     1.0      ALBANY       ALBANY  1/1/2014  2014      1    1   Wednesday   \n",
       "4     1.0      ALBANY       ALBANY  1/1/2014  2014      1    1   Wednesday   \n",
       "\n",
       "   Hour Weather.Conditions Road.Surface.Conditions  \\\n",
       "0     2             Cloudy                     Wet   \n",
       "1     7             Cloudy                     Wet   \n",
       "2    10              Clear                     Dry   \n",
       "3    10             Cloudy                     Wet   \n",
       "4    12              Clear                     Dry   \n",
       "\n",
       "   Number.of.Vehicles.Involved  number.of.accidents  Volume  VehDensity  \\\n",
       "0                            2                    1   102.5    0.019512   \n",
       "1                            1                    1    43.0    0.023256   \n",
       "2                            2                    1   203.0    0.009852   \n",
       "3                            2                    1   203.0    0.009852   \n",
       "4                            2                    1   536.5    0.003728   \n",
       "\n",
       "   AccDensity       p_vol  p_accdensity  \n",
       "0    0.009756   42.486000     -3.649581  \n",
       "1    0.023256   72.019562     -4.168419  \n",
       "2    0.004926  676.923663     -6.400861  \n",
       "3    0.004926  241.800667     -5.399975  \n",
       "4    0.001864  729.030769     -6.478513  "
      ]
     },
     "execution_count": 56,
     "metadata": {},
     "output_type": "execute_result"
    }
   ],
   "source": [
    "clean['p_vol'] = etrees\n",
    "clean['p_accdensity'] = etrees2\n",
    "clean.head(5)"
   ]
  },
  {
   "cell_type": "markdown",
   "metadata": {},
   "source": [
    "'up_accdensity' is the re-compressed predictin for accident density"
   ]
  },
  {
   "cell_type": "code",
   "execution_count": 57,
   "metadata": {
    "collapsed": false
   },
   "outputs": [],
   "source": [
    "clean['up_accdensity'] = np.exp(clean['p_accdensity'])\n",
    "test = clean[['AccDensity','up_accdensity']]\n",
    "test['AccDensity'] = np.log(test['AccDensity'])\n",
    "test['up_accdensity'] = np.log(test['up_accdensity'])"
   ]
  },
  {
   "cell_type": "markdown",
   "metadata": {},
   "source": [
    "The two violinplots below show the distribution of predicted values compared to the true values\n",
    "\n",
    "It is not as close as the volume predictions because one of the fields is a predicted value in and of itself which will lower the integrity of the training data"
   ]
  },
  {
   "cell_type": "code",
   "execution_count": 58,
   "metadata": {
    "collapsed": false,
    "scrolled": false
   },
   "outputs": [
    {
     "data": {
      "text/plain": [
       "<matplotlib.axes._subplots.AxesSubplot at 0x25b9faaf6a0>"
      ]
     },
     "execution_count": 58,
     "metadata": {},
     "output_type": "execute_result"
    },
    {
     "data": {
      "image/png": "[encoded data removed]",
      "text/plain": [
       "<matplotlib.figure.Figure at 0x25b8e5a2860>"
      ]
     },
     "metadata": {},
     "output_type": "display_data"
    }
   ],
   "source": [
    "sns.violinplot(test, inner = 'quartile')"
   ]
  },
  {
   "cell_type": "markdown",
   "metadata": {},
   "source": [
    "**Step Three**\n",
    "\n",
    "Multiply the accident volume by the projected accident density to return the projected number of accidents"
   ]
  },
  {
   "cell_type": "code",
   "execution_count": 59,
   "metadata": {
    "collapsed": false
   },
   "outputs": [],
   "source": [
    "clean['proj_acc'] = clean['p_vol'] * clean['up_accdensity']\n",
    "clean['proj_acc_scale'] = minmax_scale(clean['proj_acc'],feature_range=(clean['number.of.accidents'].min(),clean['number.of.accidents'].max()))\n",
    "clean['proj_acc_scale'] = clean['proj_acc_scale'].round(0)\n",
    "clean['proj_acc_scale'] = clean['proj_acc_scale'].astype(int)"
   ]
  },
  {
   "cell_type": "code",
   "execution_count": 60,
   "metadata": {
    "collapsed": false
   },
   "outputs": [
    {
     "data": {
      "image/png": "[encoded data removed]",
      "text/plain": [
       "<matplotlib.figure.Figure at 0x25b8e63ee80>"
      ]
     },
     "metadata": {},
     "output_type": "display_data"
    }
   ],
   "source": [
    "plt.hist(clean['proj_acc_scale'], bins=50);"
   ]
  },
  {
   "cell_type": "code",
   "execution_count": 61,
   "metadata": {
    "collapsed": false,
    "scrolled": true
   },
   "outputs": [
    {
     "data": {
      "image/png": "[encoded data removed]",
      "text/plain": [
       "<matplotlib.figure.Figure at 0x25b8b1a8898>"
      ]
     },
     "metadata": {},
     "output_type": "display_data"
    }
   ],
   "source": [
    "plt.hist(clean['number.of.accidents'], bins=50);"
   ]
  },
  {
   "cell_type": "markdown",
   "metadata": {},
   "source": [
    "To overcome this issue, we will bin the inputs and use a classifier to predict which bin the number of accidents will fall in\n",
    "\n",
    "The model is very effective when there are only two bins, but it does not help a manager if there will be either 1 or any other number accidents for that hour\n",
    "\n",
    "Accuracy declines when more bins are included but it is more helpful to the business case, so we will use 3 bins:\n",
    "\n",
    "1 accident per hour, 2-4 accidents per hour, or more than 4 accidents per hour"
   ]
  },
  {
   "cell_type": "code",
   "execution_count": 62,
   "metadata": {
    "collapsed": false,
    "scrolled": true
   },
   "outputs": [
    {
     "data": {
      "text/plain": [
       "<matplotlib.axes._subplots.AxesSubplot at 0x25b8b23e828>"
      ]
     },
     "execution_count": 62,
     "metadata": {},
     "output_type": "execute_result"
    },
    {
     "data": {
      "image/png": "[encoded data removed]",
      "text/plain": [
       "<matplotlib.figure.Figure at 0x25b8b2007f0>"
      ]
     },
     "metadata": {},
     "output_type": "display_data"
    }
   ],
   "source": [
    "bins = [0,2,4,100000]\n",
    "group_names = ['One','Two', 'Three']\n",
    "categories = pd.cut(clean['number.of.accidents'], bins, labels = group_names)\n",
    "cat = categories.to_string\n",
    "sns.countplot(categories)"
   ]
  },
  {
   "cell_type": "code",
   "execution_count": 63,
   "metadata": {
    "collapsed": false
   },
   "outputs": [],
   "source": [
    "y1 = list(categories)"
   ]
  },
  {
   "cell_type": "code",
   "execution_count": 64,
   "metadata": {
    "collapsed": true
   },
   "outputs": [],
   "source": [
    "X_train, X_test, y_train, y_test = train_test_split(X, y1, test_size=0.33, random_state=42)"
   ]
  },
  {
   "cell_type": "markdown",
   "metadata": {},
   "source": [
    "Because the data is very overweight in favor of single accidents, we need to account for this in our model\n",
    "\n",
    "By assigning 'balanced' to the class_weight input the algorithm will automatically account for the imbalances"
   ]
  },
  {
   "cell_type": "code",
   "execution_count": 65,
   "metadata": {
    "collapsed": false
   },
   "outputs": [
    {
     "data": {
      "text/plain": [
       "(0.84687570725606809, 0.82989497818559066, 0.016980729070477429)"
      ]
     },
     "execution_count": 65,
     "metadata": {},
     "output_type": "execute_result"
    }
   ],
   "source": [
    "etc = ExtraTreesClassifier(n_estimators=50, max_depth = 25, random_state = 0, class_weight = 'balanced')\n",
    "etc.fit(X_train, y_train)\n",
    "y_etc = etc.predict(X_test)\n",
    "etc.score(X_train,y_train), etc.score(X_test, y_test),etc.score(X_train,y_train)-etc.score(X_test,y_test)"
   ]
  },
  {
   "cell_type": "code",
   "execution_count": 66,
   "metadata": {
    "collapsed": false
   },
   "outputs": [
    {
     "data": {
      "text/plain": [
       "array([[171628,   7396,  22976],\n",
       "       [   316,    743,    630],\n",
       "       [  2675,   1916,   2819]])"
      ]
     },
     "execution_count": 66,
     "metadata": {},
     "output_type": "execute_result"
    }
   ],
   "source": [
    "confusion_matrix(y_test, y_etc)"
   ]
  },
  {
   "cell_type": "code",
   "execution_count": 67,
   "metadata": {
    "collapsed": false
   },
   "outputs": [
    {
     "data": {
      "text/plain": [
       "array([ 0.84964356,  0.43990527,  0.38043185])"
      ]
     },
     "execution_count": 67,
     "metadata": {},
     "output_type": "execute_result"
    }
   ],
   "source": [
    "recall_score(y_test, y_etc, average = None)"
   ]
  },
  {
   "cell_type": "markdown",
   "metadata": {},
   "source": [
    "**More to come...**"
   ]
  }
 ],
 "metadata": {
  "anaconda-cloud": {},
  "kernelspec": {
   "display_name": "Python [conda root]",
   "language": "python",
   "name": "conda-root-py"
  },
  "language_info": {
   "codemirror_mode": {
    "name": "ipython",
    "version": 3
   },
   "file_extension": ".py",
   "mimetype": "text/x-python",
   "name": "python",
   "nbconvert_exporter": "python",
   "pygments_lexer": "ipython3",
   "version": "3.5.2"
  }
 },
 "nbformat": 4,
 "nbformat_minor": 1
}
